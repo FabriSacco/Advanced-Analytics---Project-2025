{
 "cells": [
  {
   "cell_type": "markdown",
   "metadata": {},
   "source": [
    "# Preprocessing"
   ]
  },
  {
   "cell_type": "code",
   "execution_count": 52,
   "metadata": {},
   "outputs": [],
   "source": [
    "import numpy as np\n",
    "import pandas as pd\n",
    "import xgboost as xgb\n",
    "import optuna\n",
    "from sklearn.model_selection import train_test_split\n",
    "from sklearn.metrics import mean_absolute_error\n",
    "from sklearn.preprocessing import MinMaxScaler, PowerTransformer\n",
    "from sklearn.impute import KNNImputer\n",
    "\n",
    "# Load data\n",
    "train = pd.read_csv(\"C:/Users/fabri/Desktop/uni/MSDS/2024-2025/Semester 2/Advanced Analytics in a Big Data World/Project/Assignment 1/Data/train.csv\")\n",
    "test = pd.read_csv(\"C:/Users/fabri/Desktop/uni/MSDS/2024-2025/Semester 2/Advanced Analytics in a Big Data World/Project/Assignment 1/Data/test.csv\")"
   ]
  },
  {
   "cell_type": "code",
   "execution_count": 53,
   "metadata": {},
   "outputs": [],
   "source": [
    "# Mapping dwelling types to categories\n",
    "dwelling_map = {\n",
    "    **{dw: \"Apartments\" for dw in [\n",
    "        \"Appartement\", \"Appartementengebouw\", \"Assistentie-appartement\", \"Bel-Étage\", \"Dakappartement\",\n",
    "        \"Duplex\", \"Gelijkvloers app.\", \"Loft\", \"Penthouse\", \"Serviceflat\", \"Studio\", \"Studio met slaaphoek\"\n",
    "    ]},\n",
    "    **{dw: \"Houses\" for dw in [\n",
    "        \"Arbeiderswoning\", \"Boerderij\", \"Bungalow\", \"Burgerswoning\", \"Cottage\", \"Eengezinswoning\",\n",
    "        \"Fermette\", \"Herenhuis\", \"Herenwoning\", \"Hoekwoning\", \"Hoeve\", \"Kangoeroewoning\", \"Koppelvilla\",\n",
    "        \"Koppelwoning\", \"Moderne villa\", \"Pastorijwoning\", \"Rijwoning\", \"Villa\", \"Villa-landhuis\", \"Woning\"\n",
    "    ]},\n",
    "    **{dw: \"Other\" for dw in [\n",
    "        \"Andere\", \"Buitenverblijf\", \"Gemengd gebruik\", \"Kasteel\", \"Uitzonderlijke woning\",\n",
    "        \"Vakantiewoning\", \"Woonboot\"\n",
    "    ]}\n",
    "}\n",
    "train[\"Category\"] = train[\"subtype\"].map(dwelling_map).fillna(\"Other\")\n",
    "test[\"Category\"] = test[\"subtype\"].map(dwelling_map).fillna(\"Other\")"
   ]
  },
  {
   "cell_type": "code",
   "execution_count": 54,
   "metadata": {},
   "outputs": [],
   "source": [
    "# Classify location based on postcode\n",
    "def classify_location(postcode):\n",
    "    if pd.isna(postcode):\n",
    "        return \"Unknown\"  # Handle missing postcodes\n",
    "    \n",
    "    postcode = str(postcode).zfill(4)  # Ensure it's a 4-digit string\n",
    "    first_digit, second_digit, third_digit = map(int, postcode[:3])  # Convert only once\n",
    "    \n",
    "    if first_digit in {1, 2, 3, 4, 9} and second_digit in {0, 1, 2, 3, 4} and third_digit in {0, 1}:\n",
    "        return \"Urban\"\n",
    "    elif (\n",
    "        (first_digit in {1, 2, 3, 4, 9} and second_digit in {5, 6, 7}) or\n",
    "        (first_digit in {5, 6, 7, 8} and second_digit in {0, 1, 2, 3, 4}) or\n",
    "        (first_digit in {5, 6, 7, 8} and second_digit in {5, 6} and third_digit in {0, 1, 2, 3, 4, 5})\n",
    "    ):\n",
    "        return \"Suburban\"\n",
    "    else:\n",
    "        return \"Rural\"\n",
    "\n",
    "train[\"Location_Type\"] = train[\"postcode\"].apply(classify_location)\n",
    "test[\"Location_Type\"] = test[\"postcode\"].apply(classify_location)"
   ]
  },
  {
   "cell_type": "code",
   "execution_count": 55,
   "metadata": {},
   "outputs": [],
   "source": [
    "# Energy efficiency classification\n",
    "energy_bins = np.array([-float(\"inf\"), 100, 200, 300, 400, 500, float(\"inf\")])\n",
    "energy_labels = np.array([\"A\", \"B\", \"C\", \"D\", \"E\", \"F\"])\n",
    "\n",
    "def classify_energy_label(energy):\n",
    "    if pd.isna(energy):\n",
    "        return \"Unknown\"\n",
    "    return energy_labels[np.searchsorted(energy_bins, energy, side=\"right\") - 1]\n",
    "\n",
    "train[\"energy_label\"] = train[\"energy_value\"].apply(classify_energy_label)\n",
    "test[\"energy_label\"] = test[\"energy_value\"].apply(classify_energy_label)"
   ]
  },
  {
   "cell_type": "code",
   "execution_count": 56,
   "metadata": {},
   "outputs": [],
   "source": [
    "# Impute missing numerical values with category-wise median\n",
    "imputed_cols = [\"area\", \"energy_value\"]\n",
    "train[imputed_cols] = train.groupby(\"Category\")[imputed_cols].transform(lambda x: x.fillna(x.median()))\n",
    "test[imputed_cols] = test.groupby(\"Category\")[imputed_cols].transform(lambda x: x.fillna(x.median()))"
   ]
  },
  {
   "cell_type": "code",
   "execution_count": 57,
   "metadata": {},
   "outputs": [],
   "source": [
    "# KNN Imputation for lat/lon\n",
    "imputer = KNNImputer(n_neighbors=5)\n",
    "train[[\"lat\", \"lon\"]] = imputer.fit_transform(train[[\"lat\", \"lon\"]])\n",
    "test[[\"lat\", \"lon\"]] = imputer.transform(test[[\"lat\", \"lon\"]])"
   ]
  },
  {
   "cell_type": "code",
   "execution_count": 58,
   "metadata": {},
   "outputs": [],
   "source": [
    "# Handle outliers with Winsorization\n",
    "def winsorize(series, lower_quantile=0.01, upper_quantile=0.99):\n",
    "    lower_bound = series.quantile(lower_quantile)\n",
    "    upper_bound = series.quantile(upper_quantile)\n",
    "    return np.clip(series, lower_bound, upper_bound)\n",
    "\n",
    "outlier_cols = [\"area\", \"energy_value\", \"foto_amount\", \"price\"]\n",
    "for col in outlier_cols:\n",
    "    train[col] = winsorize(train[col])\n",
    "    if col != \"price\":  \n",
    "        test[col] = winsorize(test[col])"
   ]
  },
  {
   "cell_type": "code",
   "execution_count": 59,
   "metadata": {},
   "outputs": [],
   "source": [
    "# One-hot encoding for categorical variables\n",
    "train = pd.get_dummies(train, columns=[\"Location_Type\", \"energy_label\"], drop_first=True)\n",
    "test = pd.get_dummies(test, columns=[\"Location_Type\", \"energy_label\"], drop_first=True)\n",
    "\n",
    "# Ordinal encoding for province\n",
    "train[\"province\"] = train[\"province\"].astype(\"category\").cat.codes\n",
    "test[\"province\"] = test[\"province\"].astype(\"category\").cat.codes\n",
    "\n",
    "# Ordinal encoding for Category\n",
    "train[\"Category\"] = train[\"Category\"].astype(\"category\").cat.codes\n",
    "test[\"Category\"] = test[\"Category\"].astype(\"category\").cat.codes"
   ]
  },
  {
   "cell_type": "code",
   "execution_count": 60,
   "metadata": {},
   "outputs": [],
   "source": [
    "# Normalize Numerical Features\n",
    "scaler_features = MinMaxScaler()\n",
    "power_transformer = PowerTransformer(method=\"yeo-johnson\")\n",
    "\n",
    "continuous_cols_train = [\"area\", \"energy_value\", \"foto_amount\"]\n",
    "continuous_cols_price = [\"price\"]\n",
    "\n",
    "scaler_features.fit(train[continuous_cols_train])\n",
    "train[continuous_cols_train] = scaler_features.transform(train[continuous_cols_train])\n",
    "test[continuous_cols_train] = scaler_features.transform(test[continuous_cols_train])\n",
    "\n",
    "train[\"price\"] = power_transformer.fit_transform(train[[\"price\"]])"
   ]
  },
  {
   "cell_type": "code",
   "execution_count": 61,
   "metadata": {},
   "outputs": [],
   "source": [
    "# Drop unnecessary columns\n",
    "train = train.drop(columns=[\"id\", \"advertiser\", \"subtype\", \"sticker\", \"price_drop_date\"])\n",
    "test = test.drop(columns=[\"advertiser\", \"subtype\", \"sticker\", \"price_drop_date\"])"
   ]
  },
  {
   "cell_type": "markdown",
   "metadata": {},
   "source": [
    "# Model Training"
   ]
  },
  {
   "cell_type": "code",
   "execution_count": 62,
   "metadata": {},
   "outputs": [
    {
     "name": "stderr",
     "output_type": "stream",
     "text": [
      "[I 2025-03-16 16:36:30,229] A new study created in memory with name: no-name-8e51e5f1-de4f-42a1-9d9b-b2db1f4fdd96\n"
     ]
    },
    {
     "name": "stderr",
     "output_type": "stream",
     "text": [
      "[I 2025-03-16 16:36:33,681] Trial 0 finished with value: 0.4157024536959632 and parameters: {'n_estimators': 676, 'max_depth': 7, 'learning_rate': 0.2549782268318953, 'subsample': 0.6549769713878331, 'colsample_bytree': 0.6541525956839637, 'lambda': 6.689515472092158, 'alpha': 9.305701779989873}. Best is trial 0 with value: 0.4157024536959632.\n",
      "[I 2025-03-16 16:36:35,187] Trial 1 finished with value: 0.4068706069975338 and parameters: {'n_estimators': 273, 'max_depth': 7, 'learning_rate': 0.10932371633506967, 'subsample': 0.7385722579472314, 'colsample_bytree': 0.9464676955053899, 'lambda': 6.880211015956981, 'alpha': 4.569902859714276}. Best is trial 1 with value: 0.4068706069975338.\n",
      "[I 2025-03-16 16:36:38,030] Trial 2 finished with value: 0.41745901569387234 and parameters: {'n_estimators': 495, 'max_depth': 8, 'learning_rate': 0.2215895205261166, 'subsample': 0.689076111943962, 'colsample_bytree': 0.7693836833541697, 'lambda': 4.707556048583692, 'alpha': 5.786328491139965}. Best is trial 1 with value: 0.4068706069975338.\n",
      "[I 2025-03-16 16:36:38,686] Trial 3 finished with value: 0.4172271881616715 and parameters: {'n_estimators': 161, 'max_depth': 5, 'learning_rate': 0.14915960646914203, 'subsample': 0.9954109134813731, 'colsample_bytree': 0.6700911455302152, 'lambda': 5.5386255994383164, 'alpha': 1.3304304032145273}. Best is trial 1 with value: 0.4068706069975338.\n",
      "[I 2025-03-16 16:36:42,076] Trial 4 finished with value: 0.4203759826524573 and parameters: {'n_estimators': 768, 'max_depth': 6, 'learning_rate': 0.016771332263005444, 'subsample': 0.9007685228337331, 'colsample_bytree': 0.8015136064937054, 'lambda': 6.2859504250198865, 'alpha': 6.49910536583806}. Best is trial 1 with value: 0.4068706069975338.\n",
      "[I 2025-03-16 16:36:48,027] Trial 5 finished with value: 0.40222164198474697 and parameters: {'n_estimators': 636, 'max_depth': 11, 'learning_rate': 0.06867801254720042, 'subsample': 0.9154209086109041, 'colsample_bytree': 0.8484404488307956, 'lambda': 4.955961868955143, 'alpha': 7.293293475680777}. Best is trial 5 with value: 0.40222164198474697.\n",
      "[I 2025-03-16 16:36:50,734] Trial 6 finished with value: 0.4151909452948132 and parameters: {'n_estimators': 696, 'max_depth': 3, 'learning_rate': 0.27214592909021096, 'subsample': 0.8118857231360012, 'colsample_bytree': 0.9876865841913138, 'lambda': 3.9880534982942333, 'alpha': 1.2198274815454835}. Best is trial 5 with value: 0.40222164198474697.\n",
      "[I 2025-03-16 16:36:57,248] Trial 7 finished with value: 0.3996643432075576 and parameters: {'n_estimators': 752, 'max_depth': 8, 'learning_rate': 0.06320638518117921, 'subsample': 0.828970035814495, 'colsample_bytree': 0.9612047946241145, 'lambda': 8.244294910896496, 'alpha': 2.0944563552456086}. Best is trial 7 with value: 0.3996643432075576.\n",
      "[I 2025-03-16 16:37:03,377] Trial 8 finished with value: 0.4225323746079757 and parameters: {'n_estimators': 870, 'max_depth': 7, 'learning_rate': 0.2378810661867232, 'subsample': 0.829115621107892, 'colsample_bytree': 0.8121916555888451, 'lambda': 1.1504758610753716, 'alpha': 1.833153911431594}. Best is trial 7 with value: 0.3996643432075576.\n",
      "[I 2025-03-16 16:37:08,064] Trial 9 finished with value: 0.41006312571936626 and parameters: {'n_estimators': 382, 'max_depth': 11, 'learning_rate': 0.16691986899519176, 'subsample': 0.8134185996999223, 'colsample_bytree': 0.6981217199921887, 'lambda': 5.010941445324195, 'alpha': 2.4258773283060844}. Best is trial 7 with value: 0.3996643432075576.\n",
      "[I 2025-03-16 16:37:17,096] Trial 10 finished with value: 0.4039667241535993 and parameters: {'n_estimators': 983, 'max_depth': 9, 'learning_rate': 0.016261048246979576, 'subsample': 0.600082596299939, 'colsample_bytree': 0.9023250641902006, 'lambda': 9.926031915267117, 'alpha': 3.773964997955148}. Best is trial 7 with value: 0.3996643432075576.\n",
      "[I 2025-03-16 16:37:22,228] Trial 11 finished with value: 0.4058697892815554 and parameters: {'n_estimators': 564, 'max_depth': 12, 'learning_rate': 0.0802699693690993, 'subsample': 0.9151153293220378, 'colsample_bytree': 0.8883981917583683, 'lambda': 8.94615825183153, 'alpha': 7.759287879619286}. Best is trial 7 with value: 0.3996643432075576.\n",
      "[I 2025-03-16 16:37:27,564] Trial 12 finished with value: 0.40402251796669225 and parameters: {'n_estimators': 576, 'max_depth': 10, 'learning_rate': 0.056349270550644454, 'subsample': 0.9039626140878632, 'colsample_bytree': 0.8712945798761015, 'lambda': 2.9477106970165985, 'alpha': 7.708022857662811}. Best is trial 7 with value: 0.3996643432075576.\n",
      "[I 2025-03-16 16:37:36,643] Trial 13 finished with value: 0.4073853230810893 and parameters: {'n_estimators': 840, 'max_depth': 10, 'learning_rate': 0.12378788012905012, 'subsample': 0.9824017787280537, 'colsample_bytree': 0.9849042668762947, 'lambda': 8.095626662472755, 'alpha': 3.550081904183637}. Best is trial 7 with value: 0.3996643432075576.\n",
      "[I 2025-03-16 16:37:41,251] Trial 14 finished with value: 0.40764335408357955 and parameters: {'n_estimators': 423, 'max_depth': 12, 'learning_rate': 0.06354616468394465, 'subsample': 0.7560257706989255, 'colsample_bytree': 0.8380513985592769, 'lambda': 7.868683961053885, 'alpha': 9.417361180653883}. Best is trial 7 with value: 0.3996643432075576.\n",
      "[I 2025-03-16 16:37:48,515] Trial 15 finished with value: 0.4106652958909242 and parameters: {'n_estimators': 663, 'max_depth': 9, 'learning_rate': 0.1793846849799337, 'subsample': 0.8678934537643218, 'colsample_bytree': 0.7277718582029764, 'lambda': 2.8598880578997306, 'alpha': 7.0900736045322965}. Best is trial 7 with value: 0.3996643432075576.\n",
      "[I 2025-03-16 16:37:56,072] Trial 16 finished with value: 0.40335378077231293 and parameters: {'n_estimators': 947, 'max_depth': 5, 'learning_rate': 0.09343721635629865, 'subsample': 0.9475631398129432, 'colsample_bytree': 0.9360669820079405, 'lambda': 7.852630461443589, 'alpha': 4.952729828426071}. Best is trial 7 with value: 0.3996643432075576.\n",
      "[I 2025-03-16 16:38:05,262] Trial 17 finished with value: 0.39968630981445263 and parameters: {'n_estimators': 778, 'max_depth': 10, 'learning_rate': 0.04402818919010571, 'subsample': 0.8539693073958012, 'colsample_bytree': 0.7510180760204143, 'lambda': 9.895471474285184, 'alpha': 2.872531870651095}. Best is trial 7 with value: 0.3996643432075576.\n",
      "[I 2025-03-16 16:38:14,651] Trial 18 finished with value: 0.39704421019887787 and parameters: {'n_estimators': 807, 'max_depth': 9, 'learning_rate': 0.028242533065105036, 'subsample': 0.7646437648938481, 'colsample_bytree': 0.7547686815303958, 'lambda': 9.953724547461597, 'alpha': 2.5946444536204885}. Best is trial 18 with value: 0.39704421019887787.\n",
      "[I 2025-03-16 16:38:24,000] Trial 19 finished with value: 0.39764910731268677 and parameters: {'n_estimators': 874, 'max_depth': 8, 'learning_rate': 0.032850260788008574, 'subsample': 0.7692859310700223, 'colsample_bytree': 0.6150140221521854, 'lambda': 9.018796533890542, 'alpha': 2.7435009764001674}. Best is trial 18 with value: 0.39704421019887787.\n",
      "[I 2025-03-16 16:38:28,624] Trial 20 finished with value: 0.4346269976385676 and parameters: {'n_estimators': 889, 'max_depth': 3, 'learning_rate': 0.03395443114734441, 'subsample': 0.7618801116532796, 'colsample_bytree': 0.6018715727743136, 'lambda': 9.161590819932792, 'alpha': 3.469406931355903}. Best is trial 18 with value: 0.39704421019887787.\n",
      "[I 2025-03-16 16:38:36,862] Trial 21 finished with value: 0.4129173891775479 and parameters: {'n_estimators': 774, 'max_depth': 8, 'learning_rate': 0.010735577146557686, 'subsample': 0.7063789216719133, 'colsample_bytree': 0.6445651828734223, 'lambda': 8.825099350840226, 'alpha': 2.3566295457293105}. Best is trial 18 with value: 0.39704421019887787.\n",
      "[I 2025-03-16 16:38:46,789] Trial 22 finished with value: 0.3991614318787649 and parameters: {'n_estimators': 922, 'max_depth': 9, 'learning_rate': 0.042977307634944645, 'subsample': 0.7934322726316329, 'colsample_bytree': 0.7077527022205616, 'lambda': 8.426494435455643, 'alpha': 4.1071446190952745}. Best is trial 18 with value: 0.39704421019887787.\n",
      "[I 2025-03-16 16:38:57,113] Trial 23 finished with value: 0.3998537571841132 and parameters: {'n_estimators': 995, 'max_depth': 9, 'learning_rate': 0.0394615499534617, 'subsample': 0.7699200208750058, 'colsample_bytree': 0.7130508534545085, 'lambda': 9.333066723150342, 'alpha': 4.526471934339531}. Best is trial 18 with value: 0.39704421019887787.\n",
      "[I 2025-03-16 16:39:07,532] Trial 24 finished with value: 0.40827346595282393 and parameters: {'n_estimators': 923, 'max_depth': 9, 'learning_rate': 0.12926431674747121, 'subsample': 0.7234156103112116, 'colsample_bytree': 0.6132616595883363, 'lambda': 7.3313309862533504, 'alpha': 2.8785376392750663}. Best is trial 18 with value: 0.39704421019887787.\n",
      "[I 2025-03-16 16:39:14,607] Trial 25 finished with value: 0.4033074074816788 and parameters: {'n_estimators': 850, 'max_depth': 6, 'learning_rate': 0.09642217963116985, 'subsample': 0.7853704160782535, 'colsample_bytree': 0.7679206668551591, 'lambda': 9.934564013671718, 'alpha': 4.066557529185795}. Best is trial 18 with value: 0.39704421019887787.\n",
      "[I 2025-03-16 16:39:24,056] Trial 26 finished with value: 0.412707568307332 and parameters: {'n_estimators': 815, 'max_depth': 11, 'learning_rate': 0.20257057167688358, 'subsample': 0.6860500243620596, 'colsample_bytree': 0.6921093984868507, 'lambda': 8.571718968462445, 'alpha': 5.461305483177696}. Best is trial 18 with value: 0.39704421019887787.\n",
      "[I 2025-03-16 16:39:33,207] Trial 27 finished with value: 0.3980100039730738 and parameters: {'n_estimators': 915, 'max_depth': 8, 'learning_rate': 0.03514739606937906, 'subsample': 0.7888308269903265, 'colsample_bytree': 0.626489679142659, 'lambda': 7.5599856729891215, 'alpha': 3.0416201492539816}. Best is trial 18 with value: 0.39704421019887787.\n",
      "[I 2025-03-16 16:39:38,825] Trial 28 finished with value: 0.4262257570549679 and parameters: {'n_estimators': 709, 'max_depth': 8, 'learning_rate': 0.29520278970703495, 'subsample': 0.6483480148358148, 'colsample_bytree': 0.6295961087922942, 'lambda': 9.336606390339872, 'alpha': 3.143477409784318}. Best is trial 18 with value: 0.39704421019887787.\n",
      "[I 2025-03-16 16:39:42,489] Trial 29 finished with value: 0.40913925032627196 and parameters: {'n_estimators': 623, 'max_depth': 7, 'learning_rate': 0.08414842191881028, 'subsample': 0.6518078635227339, 'colsample_bytree': 0.663280504856615, 'lambda': 6.178890989937862, 'alpha': 8.595355200729621}. Best is trial 18 with value: 0.39704421019887787.\n",
      "[I 2025-03-16 16:39:47,799] Trial 30 finished with value: 0.404096406623871 and parameters: {'n_estimators': 998, 'max_depth': 6, 'learning_rate': 0.028125916377710676, 'subsample': 0.8610180518310823, 'colsample_bytree': 0.6340202473236967, 'lambda': 7.521062306166298, 'alpha': 1.5955090737900228}. Best is trial 18 with value: 0.39704421019887787.\n",
      "[I 2025-03-16 16:39:55,138] Trial 31 finished with value: 0.3997292607335945 and parameters: {'n_estimators': 893, 'max_depth': 9, 'learning_rate': 0.048319253555529136, 'subsample': 0.7874909599006219, 'colsample_bytree': 0.7394079461059163, 'lambda': 6.861234166891123, 'alpha': 4.180718334763669}. Best is trial 18 with value: 0.39704421019887787.\n",
      "[I 2025-03-16 16:40:04,560] Trial 32 finished with value: 0.39768194370043825 and parameters: {'n_estimators': 937, 'max_depth': 10, 'learning_rate': 0.03265923235096059, 'subsample': 0.732519508964471, 'colsample_bytree': 0.6769570369729796, 'lambda': 8.500964081252036, 'alpha': 2.7197902577765296}. Best is trial 18 with value: 0.39704421019887787.\n",
      "[I 2025-03-16 16:40:11,580] Trial 33 finished with value: 0.40659321099363027 and parameters: {'n_estimators': 809, 'max_depth': 10, 'learning_rate': 0.11018766435446291, 'subsample': 0.7343016486602557, 'colsample_bytree': 0.6504378153460092, 'lambda': 9.438097652332472, 'alpha': 2.6136262687196847}. Best is trial 18 with value: 0.39704421019887787.\n",
      "[I 2025-03-16 16:40:18,111] Trial 34 finished with value: 0.398485027373279 and parameters: {'n_estimators': 940, 'max_depth': 8, 'learning_rate': 0.023245218162773543, 'subsample': 0.747218964904764, 'colsample_bytree': 0.6768641876933486, 'lambda': 7.428784837277571, 'alpha': 1.934068539252705}. Best is trial 18 with value: 0.39704421019887787.\n",
      "[I 2025-03-16 16:40:19,119] Trial 35 finished with value: 0.41343781060157087 and parameters: {'n_estimators': 152, 'max_depth': 7, 'learning_rate': 0.07328010301342348, 'subsample': 0.6832885404216191, 'colsample_bytree': 0.6279202296081667, 'lambda': 6.094673687517637, 'alpha': 1.1073783438487572}. Best is trial 18 with value: 0.39704421019887787.\n",
      "[I 2025-03-16 16:40:24,910] Trial 36 finished with value: 0.4021366400835337 and parameters: {'n_estimators': 715, 'max_depth': 10, 'learning_rate': 0.028528800268078493, 'subsample': 0.7222940131670703, 'colsample_bytree': 0.6759984621898436, 'lambda': 8.508964248142954, 'alpha': 5.304573993381716}. Best is trial 18 with value: 0.39704421019887787.\n",
      "[I 2025-03-16 16:40:26,004] Trial 37 finished with value: 0.42599939845231405 and parameters: {'n_estimators': 246, 'max_depth': 5, 'learning_rate': 0.054012542753276285, 'subsample': 0.770685074659092, 'colsample_bytree': 0.7747393730239934, 'lambda': 7.032914594654877, 'alpha': 3.1934946668207895}. Best is trial 18 with value: 0.39704421019887787.\n",
      "[I 2025-03-16 16:40:28,965] Trial 38 finished with value: 0.40457158734092813 and parameters: {'n_estimators': 484, 'max_depth': 8, 'learning_rate': 0.14749378189697193, 'subsample': 0.8374764044300422, 'colsample_bytree': 0.6015505108653223, 'lambda': 9.556412086327402, 'alpha': 4.771201243748254}. Best is trial 18 with value: 0.39704421019887787.\n",
      "[I 2025-03-16 16:40:32,856] Trial 39 finished with value: 0.4247182951310868 and parameters: {'n_estimators': 876, 'max_depth': 6, 'learning_rate': 0.01236655321035034, 'subsample': 0.7108756345246746, 'colsample_bytree': 0.6588320304867551, 'lambda': 8.877805688556023, 'alpha': 6.262911570088077}. Best is trial 18 with value: 0.39704421019887787.\n",
      "[I 2025-03-16 16:40:40,045] Trial 40 finished with value: 0.4017534149590691 and parameters: {'n_estimators': 813, 'max_depth': 11, 'learning_rate': 0.09525330517584624, 'subsample': 0.8064810275316447, 'colsample_bytree': 0.6188815122758433, 'lambda': 7.945191805737588, 'alpha': 2.154567437192841}. Best is trial 18 with value: 0.39704421019887787.\n",
      "[I 2025-03-16 16:40:46,718] Trial 41 finished with value: 0.39791101407043045 and parameters: {'n_estimators': 950, 'max_depth': 8, 'learning_rate': 0.025515167494146986, 'subsample': 0.7466891723337586, 'colsample_bytree': 0.6872249266799945, 'lambda': 7.3802452412452855, 'alpha': 1.7288717789656936}. Best is trial 18 with value: 0.39704421019887787.\n",
      "[I 2025-03-16 16:40:53,411] Trial 42 finished with value: 0.39585833659006253 and parameters: {'n_estimators': 940, 'max_depth': 8, 'learning_rate': 0.032996459575321845, 'subsample': 0.7522064667532629, 'colsample_bytree': 0.6841156031663371, 'lambda': 6.504780938451433, 'alpha': 1.3572418568699507}. Best is trial 42 with value: 0.39585833659006253.\n",
      "[I 2025-03-16 16:41:01,680] Trial 43 finished with value: 0.39827880448215663 and parameters: {'n_estimators': 962, 'max_depth': 9, 'learning_rate': 0.06098055012819223, 'subsample': 0.7401292660639694, 'colsample_bytree': 0.689115661606584, 'lambda': 6.639787743523221, 'alpha': 1.5525075962757886}. Best is trial 42 with value: 0.39585833659006253.\n",
      "[I 2025-03-16 16:41:06,799] Trial 44 finished with value: 0.40273101494727054 and parameters: {'n_estimators': 860, 'max_depth': 7, 'learning_rate': 0.021940288826120778, 'subsample': 0.6666084707270971, 'colsample_bytree': 0.7198465623915113, 'lambda': 5.551838838280302, 'alpha': 1.0482471636836548}. Best is trial 42 with value: 0.39585833659006253.\n",
      "[I 2025-03-16 16:41:11,161] Trial 45 finished with value: 0.399285474680018 and parameters: {'n_estimators': 747, 'max_depth': 7, 'learning_rate': 0.07180555019674574, 'subsample': 0.7006922434981218, 'colsample_bytree': 0.7502924935020863, 'lambda': 5.748130634386032, 'alpha': 1.6180060761603345}. Best is trial 42 with value: 0.39585833659006253.\n",
      "[I 2025-03-16 16:41:19,757] Trial 46 finished with value: 0.40268921828333104 and parameters: {'n_estimators': 942, 'max_depth': 10, 'learning_rate': 0.01077298044039986, 'subsample': 0.7482919149933813, 'colsample_bytree': 0.7893152107789683, 'lambda': 6.47550858760348, 'alpha': 2.6071889057967317}. Best is trial 42 with value: 0.39585833659006253.\n",
      "[I 2025-03-16 16:41:26,911] Trial 47 finished with value: 0.3969045724964732 and parameters: {'n_estimators': 975, 'max_depth': 8, 'learning_rate': 0.046765005294888445, 'subsample': 0.7722014837282537, 'colsample_bytree': 0.8177181122397523, 'lambda': 4.605637770824405, 'alpha': 2.045788744944909}. Best is trial 42 with value: 0.39585833659006253.\n",
      "[I 2025-03-16 16:41:34,347] Trial 48 finished with value: 0.3981070216593662 and parameters: {'n_estimators': 832, 'max_depth': 9, 'learning_rate': 0.05309719927284749, 'subsample': 0.8103379520902878, 'colsample_bytree': 0.8267475621195286, 'lambda': 4.0816227276157315, 'alpha': 2.073329100203917}. Best is trial 42 with value: 0.39585833659006253.\n",
      "[I 2025-03-16 16:41:40,853] Trial 49 finished with value: 0.40385011477193977 and parameters: {'n_estimators': 897, 'max_depth': 8, 'learning_rate': 0.0764214109856016, 'subsample': 0.774426294148935, 'colsample_bytree': 0.8193830928782715, 'lambda': 4.117525749199571, 'alpha': 3.6823997826751116}. Best is trial 42 with value: 0.39585833659006253.\n",
      "[I 2025-03-16 16:41:50,685] Trial 50 finished with value: 0.3965156632882443 and parameters: {'n_estimators': 985, 'max_depth': 9, 'learning_rate': 0.04219805044743939, 'subsample': 0.7249675649164729, 'colsample_bytree': 0.7892655274806306, 'lambda': 4.7576022636620685, 'alpha': 1.3010012289695168}. Best is trial 42 with value: 0.39585833659006253.\n",
      "[I 2025-03-16 16:41:59,844] Trial 51 finished with value: 0.3960623643698878 and parameters: {'n_estimators': 977, 'max_depth': 9, 'learning_rate': 0.036123428412870626, 'subsample': 0.7275607725089781, 'colsample_bytree': 0.8620235208512729, 'lambda': 4.911468671824968, 'alpha': 1.4145269802288942}. Best is trial 42 with value: 0.39585833659006253.\n",
      "[I 2025-03-16 16:42:09,527] Trial 52 finished with value: 0.39736900226560756 and parameters: {'n_estimators': 983, 'max_depth': 9, 'learning_rate': 0.0432526115637365, 'subsample': 0.7636827211940405, 'colsample_bytree': 0.8541882206256313, 'lambda': 4.665259431468548, 'alpha': 1.3530894689180826}. Best is trial 42 with value: 0.39585833659006253.\n",
      "[I 2025-03-16 16:42:21,273] Trial 53 finished with value: 0.39846257290160003 and parameters: {'n_estimators': 977, 'max_depth': 9, 'learning_rate': 0.048407230874560704, 'subsample': 0.7138152558141406, 'colsample_bytree': 0.8715592993476906, 'lambda': 4.743899899916348, 'alpha': 1.4687600184246343}. Best is trial 42 with value: 0.39585833659006253.\n",
      "[I 2025-03-16 16:42:32,434] Trial 54 finished with value: 0.4012533554519077 and parameters: {'n_estimators': 1000, 'max_depth': 9, 'learning_rate': 0.06308478932942792, 'subsample': 0.6347846020959372, 'colsample_bytree': 0.8581545584651527, 'lambda': 3.3901217202747445, 'alpha': 1.251505942086536}. Best is trial 42 with value: 0.39585833659006253.\n",
      "[I 2025-03-16 16:42:41,064] Trial 55 finished with value: 0.40578944413431245 and parameters: {'n_estimators': 967, 'max_depth': 10, 'learning_rate': 0.08448198634043247, 'subsample': 0.7565338408599207, 'colsample_bytree': 0.8030851763633613, 'lambda': 4.9994633465648475, 'alpha': 2.3146405009741295}. Best is trial 42 with value: 0.39585833659006253.\n",
      "[I 2025-03-16 16:42:50,728] Trial 56 finished with value: 0.3960256636019909 and parameters: {'n_estimators': 909, 'max_depth': 9, 'learning_rate': 0.04132203155780837, 'subsample': 0.695273529536743, 'colsample_bytree': 0.9179801771637126, 'lambda': 4.513503926969445, 'alpha': 1.0728417601560842}. Best is trial 42 with value: 0.39585833659006253.\n",
      "[I 2025-03-16 16:42:57,417] Trial 57 finished with value: 0.4001049280552098 and parameters: {'n_estimators': 906, 'max_depth': 8, 'learning_rate': 0.06427217962627851, 'subsample': 0.6744870178518804, 'colsample_bytree': 0.8894561789432437, 'lambda': 3.4300945764553727, 'alpha': 1.8912086320101917}. Best is trial 42 with value: 0.39585833659006253.\n",
      "[I 2025-03-16 16:43:05,069] Trial 58 finished with value: 0.4036288238912755 and parameters: {'n_estimators': 789, 'max_depth': 9, 'learning_rate': 0.10827536125164097, 'subsample': 0.6975363886269564, 'colsample_bytree': 0.9163752504390645, 'lambda': 1.962751195657198, 'alpha': 1.0703243077205893}. Best is trial 42 with value: 0.39585833659006253.\n",
      "[I 2025-03-16 16:43:08,008] Trial 59 finished with value: 0.42037695602363034 and parameters: {'n_estimators': 325, 'max_depth': 9, 'learning_rate': 0.23081986071816962, 'subsample': 0.7226185451349982, 'colsample_bytree': 0.9503183646193684, 'lambda': 4.434000797908547, 'alpha': 2.282871863605191}. Best is trial 42 with value: 0.39585833659006253.\n",
      "[I 2025-03-16 16:43:18,459] Trial 60 finished with value: 0.39669450137475415 and parameters: {'n_estimators': 858, 'max_depth': 11, 'learning_rate': 0.03933194141767356, 'subsample': 0.8231737442464151, 'colsample_bytree': 0.7889793380151673, 'lambda': 5.276846799725108, 'alpha': 1.8269529680864316}. Best is trial 42 with value: 0.39585833659006253.\n",
      "[I 2025-03-16 16:43:31,012] Trial 61 finished with value: 0.3989251021048767 and parameters: {'n_estimators': 854, 'max_depth': 12, 'learning_rate': 0.04041297890588582, 'subsample': 0.8221924711171559, 'colsample_bytree': 0.7880773650421287, 'lambda': 5.251447285571898, 'alpha': 1.8493025451225615}. Best is trial 42 with value: 0.39585833659006253.\n",
      "[I 2025-03-16 16:43:43,339] Trial 62 finished with value: 0.3956191437722533 and parameters: {'n_estimators': 913, 'max_depth': 11, 'learning_rate': 0.018504868817251944, 'subsample': 0.7801539571879476, 'colsample_bytree': 0.8382314353346711, 'lambda': 4.396416516908948, 'alpha': 1.4193131532497214}. Best is trial 62 with value: 0.3956191437722533.\n",
      "[I 2025-03-16 16:43:45,778] Trial 63 finished with value: 0.43506902384888335 and parameters: {'n_estimators': 111, 'max_depth': 11, 'learning_rate': 0.022458092153388492, 'subsample': 0.8889105746067074, 'colsample_bytree': 0.832743246888913, 'lambda': 5.291578448656667, 'alpha': 1.3866870110169423}. Best is trial 62 with value: 0.3956191437722533.\n",
      "[I 2025-03-16 16:43:58,903] Trial 64 finished with value: 0.39812653237489165 and parameters: {'n_estimators': 901, 'max_depth': 11, 'learning_rate': 0.05291144720330272, 'subsample': 0.8386672335387617, 'colsample_bytree': 0.9095851145987268, 'lambda': 5.807115414053259, 'alpha': 1.0065109216442898}. Best is trial 62 with value: 0.3956191437722533.\n",
      "[I 2025-03-16 16:44:11,516] Trial 65 finished with value: 0.3966167727766928 and parameters: {'n_estimators': 964, 'max_depth': 11, 'learning_rate': 0.03839938634993978, 'subsample': 0.7971697625356966, 'colsample_bytree': 0.8458530864836884, 'lambda': 4.38686730808972, 'alpha': 1.7339960662108171}. Best is trial 62 with value: 0.3956191437722533.\n",
      "[I 2025-03-16 16:44:26,587] Trial 66 finished with value: 0.39563355530433403 and parameters: {'n_estimators': 923, 'max_depth': 12, 'learning_rate': 0.01822708685067171, 'subsample': 0.7972433765992664, 'colsample_bytree': 0.8414554790030504, 'lambda': 3.7306752466345863, 'alpha': 1.7162888059195602}. Best is trial 62 with value: 0.3956191437722533.\n",
      "[I 2025-03-16 16:44:42,805] Trial 67 finished with value: 0.39689064581741745 and parameters: {'n_estimators': 921, 'max_depth': 12, 'learning_rate': 0.01840422593026469, 'subsample': 0.8032279860796958, 'colsample_bytree': 0.8708414932523054, 'lambda': 3.6919369595164158, 'alpha': 1.345686896417821}. Best is trial 62 with value: 0.3956191437722533.\n",
      "[I 2025-03-16 16:44:59,017] Trial 68 finished with value: 0.39554563537988013 and parameters: {'n_estimators': 955, 'max_depth': 12, 'learning_rate': 0.019506867616275226, 'subsample': 0.7827372992346004, 'colsample_bytree': 0.8455494537555632, 'lambda': 3.759210599046389, 'alpha': 1.5196724570891411}. Best is trial 68 with value: 0.39554563537988013.\n",
      "[I 2025-03-16 16:45:09,194] Trial 69 finished with value: 0.4196416371563082 and parameters: {'n_estimators': 879, 'max_depth': 12, 'learning_rate': 0.19776815579085227, 'subsample': 0.7818082449360825, 'colsample_bytree': 0.8904157282086924, 'lambda': 2.746270738460862, 'alpha': 1.4590549496374001}. Best is trial 68 with value: 0.39554563537988013.\n",
      "[I 2025-03-16 16:45:19,595] Trial 70 finished with value: 0.414682403187523 and parameters: {'n_estimators': 925, 'max_depth': 12, 'learning_rate': 0.010555939986373504, 'subsample': 0.6157803625438949, 'colsample_bytree': 0.9259343633277294, 'lambda': 3.7134190742119966, 'alpha': 9.060050959901442}. Best is trial 68 with value: 0.39554563537988013.\n",
      "[I 2025-03-16 16:45:31,879] Trial 71 finished with value: 0.39763989553383994 and parameters: {'n_estimators': 950, 'max_depth': 11, 'learning_rate': 0.033396867759636, 'subsample': 0.7944664806844691, 'colsample_bytree': 0.8424623787298509, 'lambda': 4.411739947917594, 'alpha': 2.378589400500157}. Best is trial 68 with value: 0.39554563537988013.\n",
      "[I 2025-03-16 16:45:48,133] Trial 72 finished with value: 0.39727445256818944 and parameters: {'n_estimators': 964, 'max_depth': 12, 'learning_rate': 0.016831398474117333, 'subsample': 0.7329024052122196, 'colsample_bytree': 0.8622033939292107, 'lambda': 3.1224365710099606, 'alpha': 1.652355542462312}. Best is trial 68 with value: 0.39554563537988013.\n",
      "[I 2025-03-16 16:45:55,641] Trial 73 finished with value: 0.4067613763371878 and parameters: {'n_estimators': 830, 'max_depth': 11, 'learning_rate': 0.03530838087701805, 'subsample': 0.7551091755276294, 'colsample_bytree': 0.804790510489659, 'lambda': 3.905285677510011, 'alpha': 9.903326363624835}. Best is trial 68 with value: 0.39554563537988013.\n",
      "[I 2025-03-16 16:46:11,555] Trial 74 finished with value: 0.3961230899587417 and parameters: {'n_estimators': 914, 'max_depth': 12, 'learning_rate': 0.026306871103910754, 'subsample': 0.8474680139636557, 'colsample_bytree': 0.8467218312956634, 'lambda': 4.254491879495097, 'alpha': 1.2508672360689286}. Best is trial 68 with value: 0.39554563537988013.\n",
      "[I 2025-03-16 16:46:27,419] Trial 75 finished with value: 0.3960648192586333 and parameters: {'n_estimators': 913, 'max_depth': 12, 'learning_rate': 0.024708020281474646, 'subsample': 0.8511242759390065, 'colsample_bytree': 0.8804334774218675, 'lambda': 4.226777571878897, 'alpha': 1.2767057809014002}. Best is trial 68 with value: 0.39554563537988013.\n",
      "[I 2025-03-16 16:46:41,514] Trial 76 finished with value: 0.39675943002517405 and parameters: {'n_estimators': 899, 'max_depth': 12, 'learning_rate': 0.01979647463875533, 'subsample': 0.8486321543553087, 'colsample_bytree': 0.8760034070299908, 'lambda': 2.517977413035628, 'alpha': 2.116623736942076}. Best is trial 68 with value: 0.39554563537988013.\n",
      "[I 2025-03-16 16:46:58,054] Trial 77 finished with value: 0.3969556442045016 and parameters: {'n_estimators': 880, 'max_depth': 12, 'learning_rate': 0.028049499753803615, 'subsample': 0.8754596763399993, 'colsample_bytree': 0.9002636840601447, 'lambda': 4.123973963760101, 'alpha': 1.181325189966101}. Best is trial 68 with value: 0.39554563537988013.\n",
      "[I 2025-03-16 16:47:09,334] Trial 78 finished with value: 0.42061102374810566 and parameters: {'n_estimators': 926, 'max_depth': 12, 'learning_rate': 0.25950584893651374, 'subsample': 0.8775842089648072, 'colsample_bytree': 0.8321013320464631, 'lambda': 3.459586957432653, 'alpha': 1.5816469072564563}. Best is trial 68 with value: 0.39554563537988013.\n",
      "[I 2025-03-16 16:47:22,941] Trial 79 finished with value: 0.3961340064044602 and parameters: {'n_estimators': 737, 'max_depth': 12, 'learning_rate': 0.0281302076983324, 'subsample': 0.959538339930631, 'colsample_bytree': 0.8852354631150045, 'lambda': 3.8832270757367446, 'alpha': 1.066563560730618}. Best is trial 68 with value: 0.39554563537988013.\n",
      "[I 2025-03-16 16:47:36,898] Trial 80 finished with value: 0.3987352116307988 and parameters: {'n_estimators': 836, 'max_depth': 12, 'learning_rate': 0.0175461785831492, 'subsample': 0.9259804685423295, 'colsample_bytree': 0.934971161735326, 'lambda': 4.341963258929112, 'alpha': 1.9545072126207395}. Best is trial 68 with value: 0.39554563537988013.\n",
      "[I 2025-03-16 16:47:50,054] Trial 81 finished with value: 0.3973268506355534 and parameters: {'n_estimators': 727, 'max_depth': 12, 'learning_rate': 0.027912116165191597, 'subsample': 0.981452942706371, 'colsample_bytree': 0.8816457470442787, 'lambda': 3.89607528629856, 'alpha': 1.2203028439807926}. Best is trial 68 with value: 0.39554563537988013.\n",
      "[I 2025-03-16 16:48:03,085] Trial 82 finished with value: 0.3978686276198012 and parameters: {'n_estimators': 785, 'max_depth': 12, 'learning_rate': 0.05894115806740405, 'subsample': 0.9449953546457223, 'colsample_bytree': 0.8621775310328752, 'lambda': 4.969874998453321, 'alpha': 1.086490254103785}. Best is trial 68 with value: 0.39554563537988013.\n",
      "[I 2025-03-16 16:48:12,905] Trial 83 finished with value: 0.39882646610322514 and parameters: {'n_estimators': 665, 'max_depth': 11, 'learning_rate': 0.02950887675755383, 'subsample': 0.8168181432639918, 'colsample_bytree': 0.9728204906583972, 'lambda': 3.0393319084811328, 'alpha': 1.5634655712286145}. Best is trial 68 with value: 0.39554563537988013.\n",
      "[I 2025-03-16 16:48:25,965] Trial 84 finished with value: 0.4074259366087197 and parameters: {'n_estimators': 603, 'max_depth': 12, 'learning_rate': 0.010621271522201953, 'subsample': 0.9857522041686125, 'colsample_bytree': 0.8974704597378483, 'lambda': 3.687832120922875, 'alpha': 1.8079035500773997}. Best is trial 68 with value: 0.39554563537988013.\n",
      "[I 2025-03-16 16:48:39,473] Trial 85 finished with value: 0.3940845684095017 and parameters: {'n_estimators': 940, 'max_depth': 11, 'learning_rate': 0.021575363472601142, 'subsample': 0.8346087076429625, 'colsample_bytree': 0.8404657857920002, 'lambda': 3.3033253150594644, 'alpha': 1.0064624232138517}. Best is trial 85 with value: 0.3940845684095017.\n",
      "[I 2025-03-16 16:48:50,473] Trial 86 finished with value: 0.39420359045329184 and parameters: {'n_estimators': 941, 'max_depth': 10, 'learning_rate': 0.02019807088881217, 'subsample': 0.8398104148364915, 'colsample_bytree': 0.8461763580854462, 'lambda': 2.349807188003785, 'alpha': 1.3784404116378515}. Best is trial 85 with value: 0.3940845684095017.\n",
      "[I 2025-03-16 16:48:56,587] Trial 87 finished with value: 0.39909899321898096 and parameters: {'n_estimators': 515, 'max_depth': 10, 'learning_rate': 0.04903074710357129, 'subsample': 0.8311110093518771, 'colsample_bytree': 0.8185587121489116, 'lambda': 2.2296834979257847, 'alpha': 2.4847998056667095}. Best is trial 85 with value: 0.3940845684095017.\n",
      "[I 2025-03-16 16:49:06,696] Trial 88 finished with value: 0.39632130385697323 and parameters: {'n_estimators': 942, 'max_depth': 10, 'learning_rate': 0.018462916488740152, 'subsample': 0.860050979616972, 'colsample_bytree': 0.8556669548011644, 'lambda': 1.1317960905876854, 'alpha': 2.1535491083562306}. Best is trial 85 with value: 0.3940845684095017.\n",
      "[I 2025-03-16 16:49:15,646] Trial 89 finished with value: 0.4000979051609477 and parameters: {'n_estimators': 880, 'max_depth': 10, 'learning_rate': 0.035433262069192756, 'subsample': 0.8403541312859534, 'colsample_bytree': 0.8340455894799069, 'lambda': 1.7880676147707324, 'alpha': 5.960112811333555}. Best is trial 85 with value: 0.3940845684095017.\n",
      "[I 2025-03-16 16:49:28,521] Trial 90 finished with value: 0.39770772296927287 and parameters: {'n_estimators': 997, 'max_depth': 11, 'learning_rate': 0.017686604913495167, 'subsample': 0.7811439771416585, 'colsample_bytree': 0.8664830065287189, 'lambda': 2.507322192953717, 'alpha': 2.854344373625588}. Best is trial 85 with value: 0.3940845684095017.\n",
      "[I 2025-03-16 16:49:41,781] Trial 91 finished with value: 0.39416438800272846 and parameters: {'n_estimators': 914, 'max_depth': 11, 'learning_rate': 0.023637651066909553, 'subsample': 0.8665072484391458, 'colsample_bytree': 0.8440446006105194, 'lambda': 3.2499787790214336, 'alpha': 1.3121387318002884}. Best is trial 85 with value: 0.3940845684095017.\n",
      "[I 2025-03-16 16:49:55,017] Trial 92 finished with value: 0.39494057348897904 and parameters: {'n_estimators': 949, 'max_depth': 11, 'learning_rate': 0.022209594459779165, 'subsample': 0.8648834345233853, 'colsample_bytree': 0.8099822075736738, 'lambda': 3.2915048580020065, 'alpha': 1.4449318257610133}. Best is trial 85 with value: 0.3940845684095017.\n",
      "[I 2025-03-16 16:50:09,000] Trial 93 finished with value: 0.3996385014368809 and parameters: {'n_estimators': 934, 'max_depth': 11, 'learning_rate': 0.01034037442709418, 'subsample': 0.8972522008817834, 'colsample_bytree': 0.8247129166482114, 'lambda': 3.13682693692589, 'alpha': 1.5384110698859919}. Best is trial 85 with value: 0.3940845684095017.\n",
      "[I 2025-03-16 16:50:18,665] Trial 94 finished with value: 0.41142859464972414 and parameters: {'n_estimators': 963, 'max_depth': 10, 'learning_rate': 0.1606569963091436, 'subsample': 0.8752776315748554, 'colsample_bytree': 0.8097064681042538, 'lambda': 3.289375142112872, 'alpha': 1.4385129024069951}. Best is trial 85 with value: 0.3940845684095017.\n",
      "[I 2025-03-16 16:50:32,432] Trial 95 finished with value: 0.3958871165324221 and parameters: {'n_estimators': 946, 'max_depth': 11, 'learning_rate': 0.04769032519161274, 'subsample': 0.8102020553651887, 'colsample_bytree': 0.8522144998869801, 'lambda': 2.8493577611678633, 'alpha': 1.0127485166292929}. Best is trial 85 with value: 0.3940845684095017.\n",
      "[I 2025-03-16 16:50:45,604] Trial 96 finished with value: 0.39616232231760196 and parameters: {'n_estimators': 943, 'max_depth': 11, 'learning_rate': 0.04478455088022257, 'subsample': 0.8162639402725304, 'colsample_bytree': 0.7720381705776747, 'lambda': 2.752767097313251, 'alpha': 1.0064963684831503}. Best is trial 85 with value: 0.3940845684095017.\n",
      "[I 2025-03-16 16:50:54,143] Trial 97 finished with value: 0.4042068998231435 and parameters: {'n_estimators': 871, 'max_depth': 11, 'learning_rate': 0.05414609825097973, 'subsample': 0.801563470314291, 'colsample_bytree': 0.8491714327040366, 'lambda': 2.141204149728733, 'alpha': 7.2070806816819255}. Best is trial 85 with value: 0.3940845684095017.\n",
      "[I 2025-03-16 16:51:02,665] Trial 98 finished with value: 0.40478599382362307 and parameters: {'n_estimators': 902, 'max_depth': 11, 'learning_rate': 0.06750465212139992, 'subsample': 0.829669027571375, 'colsample_bytree': 0.8399103520002631, 'lambda': 2.501623841746604, 'alpha': 6.691895553889928}. Best is trial 85 with value: 0.3940845684095017.\n",
      "[I 2025-03-16 16:51:14,390] Trial 99 finished with value: 0.3970833839193756 and parameters: {'n_estimators': 954, 'max_depth': 10, 'learning_rate': 0.021858170432652754, 'subsample': 0.8831295764704811, 'colsample_bytree': 0.9944790289197871, 'lambda': 2.8096068875956073, 'alpha': 1.7224716624101564}. Best is trial 85 with value: 0.3940845684095017.\n"
     ]
    },
    {
     "name": "stdout",
     "output_type": "stream",
     "text": [
      "Best parameters: {'n_estimators': 940, 'max_depth': 11, 'learning_rate': 0.021575363472601142, 'subsample': 0.8346087076429625, 'colsample_bytree': 0.8404657857920002, 'lambda': 3.3033253150594644, 'alpha': 1.0064624232138517}\n"
     ]
    }
   ],
   "source": [
    "# Hyperparameter Tuning with Optuna\n",
    "def objective(trial):\n",
    "    params = {\n",
    "        \"n_estimators\": trial.suggest_int(\"n_estimators\", 100, 1000),\n",
    "        \"max_depth\": trial.suggest_int(\"max_depth\", 3, 12),\n",
    "        \"learning_rate\": trial.suggest_float(\"learning_rate\", 0.01, 0.3),\n",
    "        \"subsample\": trial.suggest_float(\"subsample\", 0.6, 1.0),\n",
    "        \"colsample_bytree\": trial.suggest_float(\"colsample_bytree\", 0.6, 1.0),\n",
    "        \"lambda\": trial.suggest_float(\"lambda\", 1, 10),\n",
    "        \"alpha\": trial.suggest_float(\"alpha\", 1, 10),\n",
    "        \"objective\": \"reg:pseudohubererror\",\n",
    "        \"random_state\": 42,\n",
    "    }\n",
    "    model = xgb.XGBRegressor(**params)\n",
    "    model.fit(X_train, y_train, eval_set=[(X_valid, y_valid)], verbose=0)\n",
    "    y_pred = model.predict(X_valid)\n",
    "    return mean_absolute_error(y_valid, y_pred)\n",
    "\n",
    "X = train.drop(columns=[\"price\"])\n",
    "y = train[\"price\"]\n",
    "X_train, X_valid, y_train, y_valid = train_test_split(X, y, test_size=0.2, random_state=42)\n",
    "\n",
    "study = optuna.create_study(direction=\"minimize\")\n",
    "study.optimize(objective, n_trials=100)\n",
    "best_params = study.best_params\n",
    "print(\"Best parameters:\", best_params)\n"
   ]
  },
  {
   "cell_type": "code",
   "execution_count": 63,
   "metadata": {},
   "outputs": [
    {
     "name": "stdout",
     "output_type": "stream",
     "text": [
      "Validation MAE: 0.15679908694228814\n"
     ]
    }
   ],
   "source": [
    "# Train final model with best hyperparameters\n",
    "best_model = xgb.XGBRegressor(**best_params)\n",
    "best_model.fit(X, y)\n",
    "\n",
    "# Compute Mean Absolute Error on validation set\n",
    "y_valid_pred = best_model.predict(X_valid)\n",
    "mae_valid = mean_absolute_error(y_valid, y_valid_pred)\n",
    "print(\"Validation MAE:\", mae_valid)"
   ]
  },
  {
   "cell_type": "code",
   "execution_count": 64,
   "metadata": {},
   "outputs": [
    {
     "name": "stdout",
     "output_type": "stream",
     "text": [
      "    id     prediction\n",
      "0  te0  364547.500000\n",
      "1  te1  410530.343750\n",
      "2  te2  240151.046875\n",
      "3  te3  175177.015625\n",
      "4  te4  331729.250000\n",
      "5  te5  576378.250000\n",
      "6  te6  331449.312500\n",
      "7  te7  744185.187500\n",
      "8  te8  424458.218750\n",
      "9  te9  465328.093750\n"
     ]
    },
    {
     "name": "stderr",
     "output_type": "stream",
     "text": [
      "c:\\Users\\fabri\\AppData\\Local\\Programs\\Python\\Python39\\lib\\site-packages\\sklearn\\utils\\validation.py:2739: UserWarning: X does not have valid feature names, but PowerTransformer was fitted with feature names\n",
      "  warnings.warn(\n"
     ]
    }
   ],
   "source": [
    "# Predict on test set\n",
    "test_features = test.drop(columns=[\"id\", \"prediction\"], errors=\"ignore\")\n",
    "test_pred = best_model.predict(test_features)\n",
    "\n",
    "test_pred = power_transformer.inverse_transform(test_pred.reshape(-1, 1)).flatten() # Reverse Power Transformation on target\n",
    "test[\"prediction\"] = test_pred\n",
    "print(test[[\"id\", \"prediction\"]].head(10))"
   ]
  },
  {
   "cell_type": "code",
   "execution_count": 66,
   "metadata": {},
   "outputs": [],
   "source": [
    "# Compute Prediction Intervals\n",
    "lower_bound = test_pred * 0.90 # 90% of the prediction\n",
    "upper_bound = test_pred * 1.10 # 110% of the prediction\n",
    "\n",
    "# Submission\n",
    "submission = pd.DataFrame({\n",
    "    \"ID\": test[\"id\"],\n",
    "    \"LOWER\": lower_bound,\n",
    "    \"UPPER\": upper_bound,\n",
    "    \"PRED\": test_pred\n",
    "})\n",
    "submission.to_csv(\"submission_xgboost.csv\", index=False)"
   ]
  }
 ],
 "metadata": {
  "kernelspec": {
   "display_name": "Python 3",
   "language": "python",
   "name": "python3"
  },
  "language_info": {
   "codemirror_mode": {
    "name": "ipython",
    "version": 3
   },
   "file_extension": ".py",
   "mimetype": "text/x-python",
   "name": "python",
   "nbconvert_exporter": "python",
   "pygments_lexer": "ipython3",
   "version": "3.9.13"
  }
 },
 "nbformat": 4,
 "nbformat_minor": 2
}
