{
 "cells": [
  {
   "cell_type": "markdown",
   "metadata": {},
   "source": [
    "# Preprocessing Train Set"
   ]
  },
  {
   "cell_type": "code",
   "execution_count": 202,
   "metadata": {},
   "outputs": [],
   "source": [
    "import pandas as pd\n",
    "import numpy as np\n",
    "from sklearn.impute import KNNImputer\n",
    "from sklearn.preprocessing import MinMaxScaler\n",
    "\n",
    "# Load dataset\n",
    "train = pd.read_csv(\"C:/Users/fabri/Desktop/uni/MSDS/2024-2025/Semester 2/Advanced Analytics in a Big Data World/Project/Assignment 1/Data/train.csv\")\n",
    "\n",
    "# Drop duplicate rows while ignoring the \"id\" column\n",
    "train = train.drop_duplicates(subset=[col for col in train.columns if col != \"id\"])"
   ]
  },
  {
   "cell_type": "code",
   "execution_count": 203,
   "metadata": {},
   "outputs": [],
   "source": [
    "# Define mapping for dwelling categories\n",
    "dwelling_map = {\n",
    "    **{dw: \"Apartments\" for dw in [\n",
    "        \"Appartement\", \"Appartementengebouw\", \"Assistentie-appartement\", \"Bel-Étage\", \"Dakappartement\",\n",
    "        \"Duplex\", \"Gelijkvloers app.\", \"Loft\", \"Penthouse\", \"Serviceflat\", \"Studio\", \"Studio met slaaphoek\"\n",
    "    ]},\n",
    "    **{dw: \"Houses\" for dw in [\n",
    "        \"Arbeiderswoning\", \"Boerderij\", \"Bungalow\", \"Burgerswoning\", \"Cottage\", \"Eengezinswoning\",\n",
    "        \"Fermette\", \"Herenhuis\", \"Herenwoning\", \"Hoekwoning\", \"Hoeve\", \"Kangoeroewoning\", \"Koppelvilla\",\n",
    "        \"Koppelwoning\", \"Moderne villa\", \"Pastorijwoning\", \"Rijwoning\", \"Villa\", \"Villa-landhuis\", \"Woning\"\n",
    "    ]},\n",
    "    **{dw: \"Other\" for dw in [\n",
    "        \"Andere\", \"Buitenverblijf\", \"Gemengd gebruik\", \"Kasteel\", \"Uitzonderlijke woning\",\n",
    "        \"Vakantiewoning\", \"Woonboot\"\n",
    "    ]}\n",
    "}\n",
    "\n",
    "# Categorize dwellings using a fast dictionary lookup\n",
    "train[\"Category\"] = train[\"subtype\"].map(dwelling_map).fillna(\"Other\")\n"
   ]
  },
  {
   "cell_type": "code",
   "execution_count": 204,
   "metadata": {},
   "outputs": [],
   "source": [
    "# Impute missing numerical values using the median within each category\n",
    "imputed_cols = [\"area\", \"energy_value\"]\n",
    "train[imputed_cols] = train.groupby(\"Category\")[imputed_cols].transform(lambda x: x.fillna(x.median()))"
   ]
  },
  {
   "cell_type": "code",
   "execution_count": 205,
   "metadata": {},
   "outputs": [],
   "source": [
    "# Handle postcodes\n",
    "def classify_location(postcode):\n",
    "    if pd.isna(postcode):\n",
    "        return \"Unknown\"  # Handle missing postcodes\n",
    "    \n",
    "    postcode = str(postcode).zfill(4)  # Ensure it's a 4-digit string\n",
    "    first_digit, second_digit, third_digit = map(int, postcode[:3])  # Convert only once\n",
    "    \n",
    "    if first_digit in {1, 2, 3, 4, 9} and second_digit in {0, 1, 2, 3, 4} and third_digit in {0, 1}:\n",
    "        return \"Urban\"\n",
    "    elif (\n",
    "        (first_digit in {1, 2, 3, 4, 9} and second_digit in {5, 6, 7}) or\n",
    "        (first_digit in {5, 6, 7, 8} and second_digit in {0, 1, 2, 3, 4}) or\n",
    "        (first_digit in {5, 6, 7, 8} and second_digit in {5, 6} and third_digit in {0, 1, 2, 3, 4, 5})\n",
    "    ):\n",
    "        return \"Suburban\"\n",
    "    else:\n",
    "        return \"Rural\"\n",
    "\n",
    "# Apply classification to postcodes\n",
    "train[\"Location_Type\"] = train[\"postcode\"].apply(classify_location)\n",
    "train = pd.get_dummies(train, columns=[\"Location_Type\"], drop_first=True)\n"
   ]
  },
  {
   "cell_type": "code",
   "execution_count": 206,
   "metadata": {},
   "outputs": [],
   "source": [
    "# Define energy label bins and corresponding labels\n",
    "energy_bins = np.array([-float(\"inf\"), 100, 200, 300, 400, 500, float(\"inf\")])\n",
    "energy_labels = np.array([\"A\", \"B\", \"C\", \"D\", \"E\", \"F\"])\n",
    "\n",
    "# Fast classification function using numpy search\n",
    "def classify_energy_label(energy):\n",
    "    if pd.isna(energy):\n",
    "        return \"Unknown\"  # Handle missing values\n",
    "    return energy_labels[np.searchsorted(energy_bins, energy, side=\"right\") - 1]\n",
    "\n",
    "# Apply classification\n",
    "train[\"energy_label\"] = train[\"energy_value\"].apply(classify_energy_label)\n",
    "\n",
    "# One-hot encode energy labels\n",
    "train = pd.get_dummies(train, columns=[\"energy_label\"], prefix=\"energy\")"
   ]
  },
  {
   "cell_type": "code",
   "execution_count": 207,
   "metadata": {},
   "outputs": [],
   "source": [
    "# Encode \"Category\" as an ordinal variable\n",
    "train[\"Category\"] = train[\"Category\"].astype(\"category\").cat.codes"
   ]
  },
  {
   "cell_type": "code",
   "execution_count": 208,
   "metadata": {},
   "outputs": [
    {
     "name": "stderr",
     "output_type": "stream",
     "text": [
      "C:\\Users\\fabri\\AppData\\Local\\Temp\\ipykernel_19472\\1816923625.py:8: FutureWarning: A value is trying to be set on a copy of a DataFrame or Series through chained assignment using an inplace method.\n",
      "The behavior will change in pandas 3.0. This inplace method will never work because the intermediate object on which we are setting values always behaves as a copy.\n",
      "\n",
      "For example, when doing 'df[col].method(value, inplace=True)', try using 'df.method({col: value}, inplace=True)' or df[col] = df[col].method(value) instead, to perform the operation inplace on the original object.\n",
      "\n",
      "\n",
      "  train[\"province\"].fillna(train[\"province\"].median(), inplace=True)  # If missing\n"
     ]
    }
   ],
   "source": [
    "# Encoding of \"province\"\n",
    "if train[\"province\"].nunique() > 10:  # If high cardinality, use ordinal encoding\n",
    "    train[\"province\"] = train[\"province\"].astype(\"category\").cat.codes\n",
    "else:  # If low cardinality, use one-hot encoding\n",
    "    train = pd.get_dummies(train, columns=[\"province\"], drop_first=True)\n",
    "\n",
    "# Convert \"province\" to float\n",
    "train[\"province\"].fillna(train[\"province\"].median(), inplace=True)  # If missing\n",
    "train[\"province\"] = train[\"province\"].astype(int)  # Convert to integer\n"
   ]
  },
  {
   "cell_type": "code",
   "execution_count": 209,
   "metadata": {},
   "outputs": [],
   "source": [
    "# Use KNN imputation for missing values in \"lat\" and \"lon\"\n",
    "imputer = KNNImputer(n_neighbors=5)\n",
    "train[[\"lat\", \"lon\"]] = imputer.fit_transform(train[[\"lat\", \"lon\"]])"
   ]
  },
  {
   "cell_type": "code",
   "execution_count": 210,
   "metadata": {},
   "outputs": [
    {
     "name": "stdout",
     "output_type": "stream",
     "text": [
      "Original Price Sample:\n",
      " 0    599000.0\n",
      "1    199000.0\n",
      "2    875000.0\n",
      "3    649000.0\n",
      "4    765000.0\n",
      "Name: price, dtype: float64\n",
      "Restored Price Sample:\n",
      " 0    599000.0\n",
      "1    199000.0\n",
      "2    875000.0\n",
      "3    649000.0\n",
      "4    765000.0\n",
      "Name: price, dtype: float64\n"
     ]
    }
   ],
   "source": [
    "# Normalize features\n",
    "scaler = MinMaxScaler()\n",
    "continuous_cols = [\"area\", \"energy_value\", \"foto_amount\", \"price\"]\n",
    "original_prices = train[\"price\"].copy() # Save original prices before scaling\n",
    "scaler.fit(train[continuous_cols])\n",
    "train[continuous_cols] = scaler.transform(train[continuous_cols])\n",
    "train[\"price\"] = scaler.inverse_transform(train[continuous_cols])[:, -1]  # Inverse transform price\n",
    "\n",
    "print(\"Original Price Sample:\\n\", original_prices.head())\n",
    "print(\"Restored Price Sample:\\n\", train[\"price\"].head())"
   ]
  },
  {
   "cell_type": "code",
   "execution_count": 211,
   "metadata": {},
   "outputs": [],
   "source": [
    "# Ensure all column names are clean for modeling\n",
    "train.columns = train.columns.str.replace(\" \", \"_\").str.lower()\n",
    "\n",
    "# Convert Boolean columns to integers\n",
    "bool_cols = train.select_dtypes(include=['bool']).columns\n",
    "train[bool_cols] = train[bool_cols].astype(int)\n",
    "\n",
    "\n",
    "# Drop columns\n",
    "dropped = ['id', 'is_appartment', 'postcode', 'added_time', 'advertiser', 'is_promoted', 'sticker', 'price_drop_date', 'subtype']\n",
    "train.drop(dropped, axis=1, inplace=True)"
   ]
  },
  {
   "cell_type": "code",
   "execution_count": 212,
   "metadata": {},
   "outputs": [],
   "source": [
    "# Save preprocessed data\n",
    "train.to_csv(\"C:/Users/fabri/Desktop/uni/MSDS/2024-2025/Semester 2/Advanced Analytics in a Big Data World/Project/Assignment 1/Data/train_preprocessed.csv\", index=False)"
   ]
  },
  {
   "cell_type": "markdown",
   "metadata": {},
   "source": [
    "# Preprocessing Test Set"
   ]
  },
  {
   "cell_type": "code",
   "execution_count": 213,
   "metadata": {},
   "outputs": [],
   "source": [
    "# Load dataset\n",
    "test = pd.read_csv(\"C:/Users/fabri/Desktop/uni/MSDS/2024-2025/Semester 2/Advanced Analytics in a Big Data World/Project/Assignment 1/Data/test.csv\")\n",
    "\n",
    "# Drop duplicate rows while ignoring the \"id\" column\n",
    "test = test.drop_duplicates(subset=[col for col in test.columns if col != \"id\"])"
   ]
  },
  {
   "cell_type": "code",
   "execution_count": 214,
   "metadata": {},
   "outputs": [],
   "source": [
    "# Define mapping for dwelling categories\n",
    "dwelling_map = {\n",
    "    **{dw: \"Apartments\" for dw in [\n",
    "        \"Appartement\", \"Appartementengebouw\", \"Assistentie-appartement\", \"Bel-Étage\", \"Dakappartement\",\n",
    "        \"Duplex\", \"Gelijkvloers app.\", \"Loft\", \"Penthouse\", \"Serviceflat\", \"Studio\", \"Studio met slaaphoek\"\n",
    "    ]},\n",
    "    **{dw: \"Houses\" for dw in [\n",
    "        \"Arbeiderswoning\", \"Boerderij\", \"Bungalow\", \"Burgerswoning\", \"Cottage\", \"Eengezinswoning\",\n",
    "        \"Fermette\", \"Herenhuis\", \"Herenwoning\", \"Hoekwoning\", \"Hoeve\", \"Kangoeroewoning\", \"Koppelvilla\",\n",
    "        \"Koppelwoning\", \"Moderne villa\", \"Pastorijwoning\", \"Rijwoning\", \"Villa\", \"Villa-landhuis\", \"Woning\"\n",
    "    ]},\n",
    "    **{dw: \"Other\" for dw in [\n",
    "        \"Andere\", \"Buitenverblijf\", \"Gemengd gebruik\", \"Kasteel\", \"Uitzonderlijke woning\",\n",
    "        \"Vakantiewoning\", \"Woonboot\"\n",
    "    ]}\n",
    "}\n",
    "\n",
    "# Categorize dwellings using a fast dictionary lookup\n",
    "test[\"Category\"] = test[\"subtype\"].map(dwelling_map).fillna(\"Other\")"
   ]
  },
  {
   "cell_type": "code",
   "execution_count": 215,
   "metadata": {},
   "outputs": [],
   "source": [
    "# Impute missing numerical values using the median within each category\n",
    "imputed_cols = [\"area\", \"energy_value\"]\n",
    "test[imputed_cols] = test.groupby(\"Category\")[imputed_cols].transform(lambda x: x.fillna(x.median()))"
   ]
  },
  {
   "cell_type": "code",
   "execution_count": 216,
   "metadata": {},
   "outputs": [],
   "source": [
    "# Postcode handling\n",
    "def classify_location(postcode):\n",
    "    if pd.isna(postcode):\n",
    "        return \"Unknown\"  # Handle missing postcodes\n",
    "    \n",
    "    postcode = str(postcode).zfill(4)  # Ensure it's a 4-digit string\n",
    "    first_digit, second_digit, third_digit = map(int, postcode[:3])  # Convert only once\n",
    "    \n",
    "    if first_digit in {1, 2, 3, 4, 9} and second_digit in {0, 1, 2, 3, 4} and third_digit in {0, 1}:\n",
    "        return \"Urban\"\n",
    "    elif (\n",
    "        (first_digit in {1, 2, 3, 4, 9} and second_digit in {5, 6, 7}) or\n",
    "        (first_digit in {5, 6, 7, 8} and second_digit in {0, 1, 2, 3, 4}) or\n",
    "        (first_digit in {5, 6, 7, 8} and second_digit in {5, 6} and third_digit in {0, 1, 2, 3, 4, 5})\n",
    "    ):\n",
    "        return \"Suburban\"\n",
    "    else:\n",
    "        return \"Rural\"\n",
    "\n",
    "# Apply classification to postcodes\n",
    "test[\"Location_Type\"] = test[\"postcode\"].apply(classify_location)\n",
    "test = pd.get_dummies(test, columns=[\"Location_Type\"], drop_first=True)"
   ]
  },
  {
   "cell_type": "code",
   "execution_count": 217,
   "metadata": {},
   "outputs": [],
   "source": [
    "# Define energy label bins and corresponding labels\n",
    "energy_bins = np.array([-float(\"inf\"), 100, 200, 300, 400, 500, float(\"inf\")])\n",
    "energy_labels = np.array([\"A\", \"B\", \"C\", \"D\", \"E\", \"F\"])\n",
    "\n",
    "# Fast classification function using numpy search\n",
    "def classify_energy_label(energy):\n",
    "    if pd.isna(energy):\n",
    "        return \"Unknown\"  # Handle missing values\n",
    "    return energy_labels[np.searchsorted(energy_bins, energy, side=\"right\") - 1]\n",
    "\n",
    "# Apply classification\n",
    "test[\"energy_label\"] = test[\"energy_value\"].apply(classify_energy_label)\n",
    "\n",
    "# One-hot encode energy labels\n",
    "test = pd.get_dummies(test, columns=[\"energy_label\"], prefix=\"energy\")"
   ]
  },
  {
   "cell_type": "code",
   "execution_count": 218,
   "metadata": {},
   "outputs": [],
   "source": [
    "# Encode \"Category\" as an ordinal variable\n",
    "test[\"Category\"] = test[\"Category\"].astype(\"category\").cat.codes"
   ]
  },
  {
   "cell_type": "code",
   "execution_count": 219,
   "metadata": {},
   "outputs": [
    {
     "name": "stderr",
     "output_type": "stream",
     "text": [
      "C:\\Users\\fabri\\AppData\\Local\\Temp\\ipykernel_19472\\118521211.py:8: FutureWarning: A value is trying to be set on a copy of a DataFrame or Series through chained assignment using an inplace method.\n",
      "The behavior will change in pandas 3.0. This inplace method will never work because the intermediate object on which we are setting values always behaves as a copy.\n",
      "\n",
      "For example, when doing 'df[col].method(value, inplace=True)', try using 'df.method({col: value}, inplace=True)' or df[col] = df[col].method(value) instead, to perform the operation inplace on the original object.\n",
      "\n",
      "\n",
      "  test[\"province\"].fillna(test[\"province\"].median(), inplace=True)  # If missing\n"
     ]
    }
   ],
   "source": [
    "# Encoding of \"province\"\n",
    "if test[\"province\"].nunique() > 10:  # If high cardinality, use ordinal encoding\n",
    "    test[\"province\"] = test[\"province\"].astype(\"category\").cat.codes\n",
    "else:  # If low cardinality, use one-hot encoding\n",
    "    test = pd.get_dummies(test, columns=[\"province\"], drop_first=True)\n",
    "\n",
    "# Convert \"province\" to float\n",
    "test[\"province\"].fillna(test[\"province\"].median(), inplace=True)  # If missing\n",
    "test[\"province\"] = test[\"province\"].astype(int)  # Convert to integer\n"
   ]
  },
  {
   "cell_type": "code",
   "execution_count": 220,
   "metadata": {},
   "outputs": [],
   "source": [
    "# Use KNN imputation for missing values in \"lat\" and \"lon\"\n",
    "imputer = KNNImputer(n_neighbors=5)\n",
    "test[[\"lat\", \"lon\"]] = imputer.fit_transform(test[[\"lat\", \"lon\"]])"
   ]
  },
  {
   "cell_type": "code",
   "execution_count": 221,
   "metadata": {},
   "outputs": [],
   "source": [
    "# Normalize features\n",
    "scaler = MinMaxScaler()\n",
    "continuous_cols = [\"area\", \"energy_value\", \"foto_amount\"]\n",
    "scaler.fit(train[continuous_cols])\n",
    "test[continuous_cols] = scaler.transform(test[continuous_cols])"
   ]
  },
  {
   "cell_type": "code",
   "execution_count": 222,
   "metadata": {},
   "outputs": [],
   "source": [
    "# Ensure all column names are clean for modeling\n",
    "test.columns = test.columns.str.replace(\" \", \"_\").str.lower()\n",
    "\n",
    "# Convert Boolean columns to integers\n",
    "bool_cols = test.select_dtypes(include=['bool']).columns\n",
    "test[bool_cols] = test[bool_cols].astype(int)\n",
    "\n",
    "\n",
    "# Drop columns\n",
    "dropped = ['is_appartment', 'postcode', 'added_time', 'advertiser', 'is_promoted', 'sticker', 'price_drop_date', 'subtype']\n",
    "test.drop(dropped, axis=1, inplace=True)"
   ]
  },
  {
   "cell_type": "code",
   "execution_count": 223,
   "metadata": {},
   "outputs": [],
   "source": [
    "# Save preprocessed data\n",
    "test.to_csv(\"C:/Users/fabri/Desktop/uni/MSDS/2024-2025/Semester 2/Advanced Analytics in a Big Data World/Project/Assignment 1/Data/test_preprocessed.csv\", index=False)"
   ]
  },
  {
   "cell_type": "markdown",
   "metadata": {},
   "source": [
    "# Train XGBoost Model"
   ]
  },
  {
   "cell_type": "code",
   "execution_count": 179,
   "metadata": {},
   "outputs": [],
   "source": [
    "import optuna\n",
    "import xgboost as xgb\n",
    "import pandas as pd\n",
    "from sklearn.model_selection import train_test_split, cross_val_score\n",
    "from sklearn.metrics import mean_absolute_error"
   ]
  },
  {
   "cell_type": "code",
   "execution_count": 188,
   "metadata": {},
   "outputs": [
    {
     "name": "stdout",
     "output_type": "stream",
     "text": [
      "area                      float64\n",
      "bedrooms                  float64\n",
      "new_building                int64\n",
      "lat                       float64\n",
      "lon                       float64\n",
      "foto_amount               float64\n",
      "energy_value              float64\n",
      "province                    int64\n",
      "price                     float64\n",
      "category                    int64\n",
      "location_type_suburban      int64\n",
      "location_type_urban         int64\n",
      "energy_a                    int64\n",
      "energy_b                    int64\n",
      "energy_c                    int64\n",
      "energy_d                    int64\n",
      "energy_e                    int64\n",
      "energy_f                    int64\n",
      "dtype: object\n"
     ]
    }
   ],
   "source": [
    "# Load preprocessed data\n",
    "train = pd.read_csv(\"C:/Users/fabri/Desktop/uni/MSDS/2024-2025/Semester 2/Advanced Analytics in a Big Data World/Project/Assignment 1/Data/train_preprocessed.csv\")\n",
    "test = pd.read_csv(\"C:/Users/fabri/Desktop/uni/MSDS/2024-2025/Semester 2/Advanced Analytics in a Big Data World/Project/Assignment 1/Data/test_preprocessed.csv\")\n",
    "test_original = pd.read_csv(\"C:/Users/fabri/Desktop/uni/MSDS/2024-2025/Semester 2/Advanced Analytics in a Big Data World/Project/Assignment 1/Data/test.csv\")\n",
    "\n",
    "# Define target and features\n",
    "X = train.drop(\"price\", axis=1)\n",
    "y = train[\"price\"]\n",
    "\n",
    "# Split data into training and validation sets\n",
    "X_train, X_valid, y_train, y_valid = train_test_split(X, y, test_size=0.2, random_state=0)\n",
    "\n",
    "# Drop irrelevant columns (if they are not needed for prediction)\n",
    "drop_cols = [\"id\", \"advertiser\", \"sticker\", \"price_drop_date\", \"subtype\"]\n",
    "train = train.drop(columns=[col for col in drop_cols if col in train.columns], errors=\"ignore\")\n",
    "\n",
    "# Convert 'province' to numeric if it's categorical\n",
    "if train[\"province\"].dtype == \"object\":\n",
    "    train[\"province\"] = train[\"province\"].astype(\"category\").cat.codes\n",
    "\n",
    "# Ensure all columns are numeric\n",
    "print(train.dtypes)  # Check again to confirm all are int/float"
   ]
  },
  {
   "cell_type": "code",
   "execution_count": 182,
   "metadata": {},
   "outputs": [
    {
     "name": "stdout",
     "output_type": "stream",
     "text": [
      "area                      float32\n",
      "bedrooms                  float32\n",
      "new_building              float32\n",
      "lat                       float32\n",
      "lon                       float32\n",
      "foto_amount               float32\n",
      "energy_value              float32\n",
      "province                  float32\n",
      "category                  float32\n",
      "location_type_suburban    float32\n",
      "location_type_urban       float32\n",
      "energy_a                  float32\n",
      "energy_b                  float32\n",
      "energy_c                  float32\n",
      "energy_d                  float32\n",
      "energy_e                  float32\n",
      "energy_f                  float32\n",
      "dtype: object\n"
     ]
    }
   ],
   "source": [
    "# Explicitly mark categorical features\n",
    "categorical_cols = [\n",
    "    \"new_building\", \"province\", \"category\", \"location_type_suburban\", \"location_type_urban\",\n",
    "    \"energy_a\", \"energy_b\", \"energy_c\", \"energy_d\", \"energy_e\", \"energy_f\"\n",
    "]\n",
    "for col in categorical_cols:\n",
    "    X[col] = X[col].astype(\"category\").cat.codes\n",
    "X = X.astype(\"float32\") # Convert to float32 for XGBoost\n",
    "print(X.dtypes)"
   ]
  },
  {
   "cell_type": "code",
   "execution_count": 183,
   "metadata": {},
   "outputs": [],
   "source": [
    "# Define Optuna objective function (Using Validation Set)\n",
    "def objective(trial):\n",
    "    params = {\n",
    "        \"n_estimators\": trial.suggest_int(\"n_estimators\", 100, 1000, step=50),\n",
    "        \"max_depth\": trial.suggest_int(\"max_depth\", 3, 12),\n",
    "        \"learning_rate\": trial.suggest_float(\"learning_rate\", 0.01, 0.3, log=True),\n",
    "        \"subsample\": trial.suggest_float(\"subsample\", 0.5, 1.0),\n",
    "        \"colsample_bytree\": trial.suggest_float(\"colsample_bytree\", 0.5, 1.0),\n",
    "        \"reg_lambda\": trial.suggest_float(\"reg_lambda\", 1e-3, 10, log=True),\n",
    "        \"reg_alpha\": trial.suggest_float(\"reg_alpha\", 1e-3, 10, log=True),\n",
    "        \"min_child_weight\": trial.suggest_int(\"min_child_weight\", 1, 10),\n",
    "    }\n",
    "\n",
    " # Train model on Train set, evaluate on Validation set\n",
    "    model = xgb.XGBRegressor(**params, random_state=42)\n",
    "    model.fit(\n",
    "        X_train, y_train,\n",
    "        eval_set=[(X_valid, y_valid)],\n",
    "        verbose=False\n",
    "    )\n",
    "\n",
    "    # Evaluate using the Validation set\n",
    "    y_valid_pred = model.predict(X_valid)\n",
    "    return mean_absolute_error(y_valid, y_valid_pred)"
   ]
  },
  {
   "cell_type": "code",
   "execution_count": 184,
   "metadata": {},
   "outputs": [
    {
     "name": "stderr",
     "output_type": "stream",
     "text": [
      "[I 2025-03-13 22:46:59,387] A new study created in memory with name: no-name-492187b0-a10b-413b-9798-184204f12677\n",
      "[I 2025-03-13 22:46:59,849] Trial 0 finished with value: 72466.41160212002 and parameters: {'n_estimators': 100, 'max_depth': 5, 'learning_rate': 0.2198572525894275, 'subsample': 0.8667755794523004, 'colsample_bytree': 0.8279238629699699, 'reg_lambda': 2.018397162004448, 'reg_alpha': 0.04471608669032889, 'min_child_weight': 2}. Best is trial 0 with value: 72466.41160212002.\n",
      "[I 2025-03-13 22:47:01,542] Trial 1 finished with value: 79258.1803096038 and parameters: {'n_estimators': 400, 'max_depth': 4, 'learning_rate': 0.016958915528453213, 'subsample': 0.7006442143118643, 'colsample_bytree': 0.5835184791862003, 'reg_lambda': 0.23023094323718427, 'reg_alpha': 0.032893113458393165, 'min_child_weight': 7}. Best is trial 0 with value: 72466.41160212002.\n",
      "[I 2025-03-13 22:47:09,203] Trial 2 finished with value: 70192.19326723239 and parameters: {'n_estimators': 950, 'max_depth': 9, 'learning_rate': 0.08513908260550275, 'subsample': 0.6388179175573645, 'colsample_bytree': 0.7181085328399284, 'reg_lambda': 0.9009531709427867, 'reg_alpha': 0.03580285385681342, 'min_child_weight': 7}. Best is trial 2 with value: 70192.19326723239.\n",
      "[I 2025-03-13 22:47:11,362] Trial 3 finished with value: 69656.7407955862 and parameters: {'n_estimators': 200, 'max_depth': 9, 'learning_rate': 0.032120912162338484, 'subsample': 0.6137247793648666, 'colsample_bytree': 0.7707674813550673, 'reg_lambda': 2.101223629480098, 'reg_alpha': 6.879537629861011, 'min_child_weight': 3}. Best is trial 3 with value: 69656.7407955862.\n",
      "[I 2025-03-13 22:47:14,439] Trial 4 finished with value: 72374.31270220545 and parameters: {'n_estimators': 600, 'max_depth': 5, 'learning_rate': 0.24271484727618464, 'subsample': 0.7394817324225296, 'colsample_bytree': 0.9118215721554869, 'reg_lambda': 0.04933981586585426, 'reg_alpha': 0.0023745689860818777, 'min_child_weight': 3}. Best is trial 3 with value: 69656.7407955862.\n",
      "[I 2025-03-13 22:47:19,372] Trial 5 finished with value: 73905.14585875954 and parameters: {'n_estimators': 900, 'max_depth': 6, 'learning_rate': 0.2980347585499912, 'subsample': 0.9845879144176484, 'colsample_bytree': 0.7323423377878355, 'reg_lambda': 0.005915973514392426, 'reg_alpha': 0.04130117395771235, 'min_child_weight': 8}. Best is trial 3 with value: 69656.7407955862.\n",
      "[I 2025-03-13 22:47:21,470] Trial 6 finished with value: 74443.91189819857 and parameters: {'n_estimators': 550, 'max_depth': 3, 'learning_rate': 0.0855618971952431, 'subsample': 0.9448464052420986, 'colsample_bytree': 0.7296213407221057, 'reg_lambda': 0.3078483223366054, 'reg_alpha': 4.002406380418593, 'min_child_weight': 1}. Best is trial 3 with value: 69656.7407955862.\n",
      "[I 2025-03-13 22:47:26,068] Trial 7 finished with value: 69126.79439929912 and parameters: {'n_estimators': 550, 'max_depth': 9, 'learning_rate': 0.1196298505008056, 'subsample': 0.820719143075511, 'colsample_bytree': 0.9488818672218187, 'reg_lambda': 5.84602155512391, 'reg_alpha': 0.012556135995422634, 'min_child_weight': 9}. Best is trial 7 with value: 69126.79439929912.\n",
      "[I 2025-03-13 22:47:28,804] Trial 8 finished with value: 73431.62247496235 and parameters: {'n_estimators': 650, 'max_depth': 4, 'learning_rate': 0.1978177903109873, 'subsample': 0.5269915981631376, 'colsample_bytree': 0.6782739230826694, 'reg_lambda': 0.004328864335621028, 'reg_alpha': 0.8597980329221716, 'min_child_weight': 9}. Best is trial 7 with value: 69126.79439929912.\n",
      "[I 2025-03-13 22:47:30,003] Trial 9 finished with value: 70901.62368763033 and parameters: {'n_estimators': 200, 'max_depth': 7, 'learning_rate': 0.27519822951589457, 'subsample': 0.992373304412955, 'colsample_bytree': 0.7230622568796747, 'reg_lambda': 0.005151463407611354, 'reg_alpha': 0.17752354724956537, 'min_child_weight': 6}. Best is trial 7 with value: 69126.79439929912.\n",
      "[I 2025-03-13 22:47:38,719] Trial 10 finished with value: 68864.73460733319 and parameters: {'n_estimators': 750, 'max_depth': 12, 'learning_rate': 0.010267235148742965, 'subsample': 0.8489699699319776, 'colsample_bytree': 0.9858149954529822, 'reg_lambda': 8.618376336861651, 'reg_alpha': 0.0011800110914043714, 'min_child_weight': 10}. Best is trial 10 with value: 68864.73460733319.\n",
      "[I 2025-03-13 22:47:47,586] Trial 11 finished with value: 68649.77125579241 and parameters: {'n_estimators': 750, 'max_depth': 12, 'learning_rate': 0.011123555999423365, 'subsample': 0.853414459849177, 'colsample_bytree': 0.9881794986139922, 'reg_lambda': 7.44211545440017, 'reg_alpha': 0.002340285766022468, 'min_child_weight': 10}. Best is trial 11 with value: 68649.77125579241.\n",
      "[I 2025-03-13 22:47:56,898] Trial 12 finished with value: 68652.13738623726 and parameters: {'n_estimators': 800, 'max_depth': 12, 'learning_rate': 0.010453070259697977, 'subsample': 0.8437443655093311, 'colsample_bytree': 0.9959044204798797, 'reg_lambda': 6.361015475720093, 'reg_alpha': 0.0010993414731657717, 'min_child_weight': 10}. Best is trial 11 with value: 68649.77125579241.\n",
      "[I 2025-03-13 22:48:05,409] Trial 13 finished with value: 68181.98617915894 and parameters: {'n_estimators': 800, 'max_depth': 12, 'learning_rate': 0.02541510677997283, 'subsample': 0.7971913311536891, 'colsample_bytree': 0.8698875692790164, 'reg_lambda': 0.03662056475429674, 'reg_alpha': 0.005133223794069185, 'min_child_weight': 10}. Best is trial 13 with value: 68181.98617915894.\n",
      "[I 2025-03-13 22:48:16,696] Trial 14 finished with value: 67732.63503093141 and parameters: {'n_estimators': 1000, 'max_depth': 11, 'learning_rate': 0.027895921978160515, 'subsample': 0.8980777506840194, 'colsample_bytree': 0.874202329200495, 'reg_lambda': 0.045766145722888646, 'reg_alpha': 0.005641985989177721, 'min_child_weight': 5}. Best is trial 14 with value: 67732.63503093141.\n",
      "[I 2025-03-13 22:48:25,830] Trial 15 finished with value: 67657.39620890292 and parameters: {'n_estimators': 1000, 'max_depth': 10, 'learning_rate': 0.033242704540823405, 'subsample': 0.9199504531934324, 'colsample_bytree': 0.8735805192883991, 'reg_lambda': 0.031005400196491034, 'reg_alpha': 0.010556964380568384, 'min_child_weight': 5}. Best is trial 15 with value: 67657.39620890292.\n",
      "[I 2025-03-13 22:48:35,098] Trial 16 finished with value: 67521.67368825302 and parameters: {'n_estimators': 1000, 'max_depth': 10, 'learning_rate': 0.040781589356466474, 'subsample': 0.9182226697269918, 'colsample_bytree': 0.8506288239305457, 'reg_lambda': 0.0010321783253105607, 'reg_alpha': 0.009393935159581066, 'min_child_weight': 5}. Best is trial 16 with value: 67521.67368825302.\n",
      "[I 2025-03-13 22:48:43,236] Trial 17 finished with value: 68060.78754631024 and parameters: {'n_estimators': 900, 'max_depth': 10, 'learning_rate': 0.05045133342932442, 'subsample': 0.924926566438246, 'colsample_bytree': 0.8090817066248303, 'reg_lambda': 0.0011673088981527593, 'reg_alpha': 0.26421096979791514, 'min_child_weight': 5}. Best is trial 16 with value: 67521.67368825302.\n",
      "[I 2025-03-13 22:48:50,620] Trial 18 finished with value: 68081.04219387165 and parameters: {'n_estimators': 1000, 'max_depth': 8, 'learning_rate': 0.0448032646716825, 'subsample': 0.773362675368602, 'colsample_bytree': 0.6467884409928684, 'reg_lambda': 0.001027704329056307, 'reg_alpha': 0.011019689664728419, 'min_child_weight': 4}. Best is trial 16 with value: 67521.67368825302.\n",
      "[I 2025-03-13 22:48:54,414] Trial 19 finished with value: 69263.19736576114 and parameters: {'n_estimators': 400, 'max_depth': 10, 'learning_rate': 0.019061905609052056, 'subsample': 0.9432716128415061, 'colsample_bytree': 0.5292225009235358, 'reg_lambda': 0.020388706865245684, 'reg_alpha': 0.015483580444826558, 'min_child_weight': 6}. Best is trial 16 with value: 67521.67368825302.\n",
      "[I 2025-03-13 22:49:02,769] Trial 20 finished with value: 68737.43573780701 and parameters: {'n_estimators': 900, 'max_depth': 10, 'learning_rate': 0.06872953447016103, 'subsample': 0.7141712958771016, 'colsample_bytree': 0.8201255032325677, 'reg_lambda': 0.012395703469512845, 'reg_alpha': 0.10140804798967742, 'min_child_weight': 4}. Best is trial 16 with value: 67521.67368825302.\n",
      "[I 2025-03-13 22:49:12,768] Trial 21 finished with value: 68020.6097567771 and parameters: {'n_estimators': 1000, 'max_depth': 11, 'learning_rate': 0.035346434995266886, 'subsample': 0.9062126070492674, 'colsample_bytree': 0.8819550050010929, 'reg_lambda': 0.09980539493142743, 'reg_alpha': 0.005328170113166613, 'min_child_weight': 5}. Best is trial 16 with value: 67521.67368825302.\n",
      "[I 2025-03-13 22:49:23,979] Trial 22 finished with value: 67430.07970948216 and parameters: {'n_estimators': 1000, 'max_depth': 11, 'learning_rate': 0.023935276199657997, 'subsample': 0.8965909158317109, 'colsample_bytree': 0.9119054085276189, 'reg_lambda': 0.12071361657097313, 'reg_alpha': 0.0053639339698417976, 'min_child_weight': 4}. Best is trial 22 with value: 67430.07970948216.\n",
      "[I 2025-03-13 22:49:30,334] Trial 23 finished with value: 68159.30408914505 and parameters: {'n_estimators': 850, 'max_depth': 8, 'learning_rate': 0.01701697808989066, 'subsample': 0.8891732351256618, 'colsample_bytree': 0.9368998096275604, 'reg_lambda': 0.2267412339308657, 'reg_alpha': 0.01735281399432584, 'min_child_weight': 4}. Best is trial 22 with value: 67430.07970948216.\n",
      "[I 2025-03-13 22:49:38,457] Trial 24 finished with value: 67478.44020916359 and parameters: {'n_estimators': 700, 'max_depth': 11, 'learning_rate': 0.04083179973761715, 'subsample': 0.9731054650051607, 'colsample_bytree': 0.7866919520972195, 'reg_lambda': 0.002501262359439068, 'reg_alpha': 0.002718658841424827, 'min_child_weight': 3}. Best is trial 22 with value: 67430.07970948216.\n",
      "[I 2025-03-13 22:49:45,238] Trial 25 finished with value: 68258.17522906048 and parameters: {'n_estimators': 450, 'max_depth': 11, 'learning_rate': 0.02224426057177757, 'subsample': 0.9967586872303236, 'colsample_bytree': 0.7947566892727091, 'reg_lambda': 0.002274131194635383, 'reg_alpha': 0.0027889813193900065, 'min_child_weight': 3}. Best is trial 22 with value: 67430.07970948216.\n",
      "[I 2025-03-13 22:49:56,766] Trial 26 finished with value: 67188.21944781048 and parameters: {'n_estimators': 700, 'max_depth': 11, 'learning_rate': 0.042111837544498966, 'subsample': 0.9580615186855036, 'colsample_bytree': 0.8411541571448911, 'reg_lambda': 0.0029720462342539794, 'reg_alpha': 0.004091391923710292, 'min_child_weight': 1}. Best is trial 26 with value: 67188.21944781048.\n",
      "[I 2025-03-13 22:50:07,423] Trial 27 finished with value: 67949.0803734071 and parameters: {'n_estimators': 650, 'max_depth': 11, 'learning_rate': 0.05558587983716952, 'subsample': 0.9690429831084516, 'colsample_bytree': 0.7771902316199569, 'reg_lambda': 0.015005560198006642, 'reg_alpha': 0.0031365418347156465, 'min_child_weight': 1}. Best is trial 26 with value: 67188.21944781048.\n",
      "[I 2025-03-13 22:50:16,705] Trial 28 finished with value: 67746.91376818814 and parameters: {'n_estimators': 700, 'max_depth': 11, 'learning_rate': 0.06278276178574019, 'subsample': 0.959604231006498, 'colsample_bytree': 0.9120038217112931, 'reg_lambda': 0.002508800911070581, 'reg_alpha': 0.001101869923466963, 'min_child_weight': 2}. Best is trial 26 with value: 67188.21944781048.\n",
      "[I 2025-03-13 22:50:19,708] Trial 29 finished with value: 71612.5528549583 and parameters: {'n_estimators': 450, 'max_depth': 7, 'learning_rate': 0.014106627717880448, 'subsample': 0.8764580141012981, 'colsample_bytree': 0.8379676622088591, 'reg_lambda': 0.10546531581707998, 'reg_alpha': 0.48001820937112244, 'min_child_weight': 2}. Best is trial 26 with value: 67188.21944781048.\n",
      "[I 2025-03-13 22:50:22,528] Trial 30 finished with value: 69505.4316619555 and parameters: {'n_estimators': 300, 'max_depth': 9, 'learning_rate': 0.13521405399337583, 'subsample': 0.8089056965818017, 'colsample_bytree': 0.6750144805783331, 'reg_lambda': 0.009022150708962144, 'reg_alpha': 0.022283540663309235, 'min_child_weight': 2}. Best is trial 26 with value: 67188.21944781048.\n",
      "[I 2025-03-13 22:50:30,062] Trial 31 finished with value: 67380.1337261353 and parameters: {'n_estimators': 850, 'max_depth': 10, 'learning_rate': 0.04131361085466556, 'subsample': 0.9390528513050248, 'colsample_bytree': 0.8388028687677683, 'reg_lambda': 0.0020705126396788802, 'reg_alpha': 0.007831736482492201, 'min_child_weight': 4}. Best is trial 26 with value: 67188.21944781048.\n",
      "[I 2025-03-13 22:50:39,092] Trial 32 finished with value: 67390.54968747104 and parameters: {'n_estimators': 800, 'max_depth': 11, 'learning_rate': 0.04087341249734993, 'subsample': 0.9537353481343824, 'colsample_bytree': 0.7636676361557682, 'reg_lambda': 0.0023118502120740812, 'reg_alpha': 0.005306795403387881, 'min_child_weight': 3}. Best is trial 26 with value: 67188.21944781048.\n",
      "[I 2025-03-13 22:50:57,114] Trial 33 finished with value: 67805.38588380444 and parameters: {'n_estimators': 850, 'max_depth': 12, 'learning_rate': 0.024396331648316998, 'subsample': 0.9464124488880251, 'colsample_bytree': 0.9103920280162472, 'reg_lambda': 0.4738741504262773, 'reg_alpha': 0.08258642028268766, 'min_child_weight': 1}. Best is trial 26 with value: 67188.21944781048.\n",
      "[I 2025-03-13 22:51:03,488] Trial 34 finished with value: 68488.1223273575 and parameters: {'n_estimators': 800, 'max_depth': 10, 'learning_rate': 0.075164235580792, 'subsample': 0.8754922549800611, 'colsample_bytree': 0.7580687681839363, 'reg_lambda': 0.11538431064309777, 'reg_alpha': 0.00504221654439373, 'min_child_weight': 4}. Best is trial 26 with value: 67188.21944781048.\n",
      "[I 2025-03-13 22:51:10,531] Trial 35 finished with value: 67718.3879041937 and parameters: {'n_estimators': 900, 'max_depth': 9, 'learning_rate': 0.03094128956420095, 'subsample': 0.6648667651692795, 'colsample_bytree': 0.8446401461617217, 'reg_lambda': 0.0018182825023885518, 'reg_alpha': 0.02424045982553559, 'min_child_weight': 3}. Best is trial 26 with value: 67188.21944781048.\n",
      "[I 2025-03-13 22:51:21,462] Trial 36 finished with value: 68743.13725280932 and parameters: {'n_estimators': 850, 'max_depth': 11, 'learning_rate': 0.05437389983491189, 'subsample': 0.5657997789631315, 'colsample_bytree': 0.9507529961068979, 'reg_lambda': 0.0038959909505933833, 'reg_alpha': 0.0018890507498854473, 'min_child_weight': 2}. Best is trial 26 with value: 67188.21944781048.\n",
      "[I 2025-03-13 22:51:28,476] Trial 37 finished with value: 67561.07060631951 and parameters: {'n_estimators': 950, 'max_depth': 9, 'learning_rate': 0.019995211702812758, 'subsample': 0.9292115632017055, 'colsample_bytree': 0.8146596050778183, 'reg_lambda': 0.8248490071582358, 'reg_alpha': 0.007152491169362818, 'min_child_weight': 4}. Best is trial 26 with value: 67188.21944781048.\n",
      "[I 2025-03-13 22:51:33,822] Trial 38 finished with value: 68202.15950347544 and parameters: {'n_estimators': 750, 'max_depth': 8, 'learning_rate': 0.0899811844169072, 'subsample': 0.9661497356634419, 'colsample_bytree': 0.6986634813158269, 'reg_lambda': 0.006992663213875629, 'reg_alpha': 0.03140780664058306, 'min_child_weight': 1}. Best is trial 26 with value: 67188.21944781048.\n",
      "[I 2025-03-13 22:51:40,170] Trial 39 finished with value: 68205.91435852063 and parameters: {'n_estimators': 600, 'max_depth': 12, 'learning_rate': 0.04026776146991834, 'subsample': 0.9974338356370357, 'colsample_bytree': 0.6347608692935338, 'reg_lambda': 0.07056791986843626, 'reg_alpha': 0.0037197818622985725, 'min_child_weight': 7}. Best is trial 26 with value: 67188.21944781048.\n",
      "[I 2025-03-13 22:51:45,058] Trial 40 finished with value: 70502.66303191613 and parameters: {'n_estimators': 950, 'max_depth': 6, 'learning_rate': 0.014429424923976697, 'subsample': 0.8316246879750456, 'colsample_bytree': 0.751974967571795, 'reg_lambda': 0.003772921608175654, 'reg_alpha': 1.6263537564223687, 'min_child_weight': 3}. Best is trial 26 with value: 67188.21944781048.\n",
      "[I 2025-03-13 22:51:52,324] Trial 41 finished with value: 67344.45046993745 and parameters: {'n_estimators': 700, 'max_depth': 11, 'learning_rate': 0.03715094971779936, 'subsample': 0.9717936450643613, 'colsample_bytree': 0.784351586861343, 'reg_lambda': 0.001994853851998055, 'reg_alpha': 0.0018100172995569467, 'min_child_weight': 3}. Best is trial 26 with value: 67188.21944781048.\n",
      "[I 2025-03-13 22:52:01,409] Trial 42 finished with value: 67212.38579836655 and parameters: {'n_estimators': 700, 'max_depth': 11, 'learning_rate': 0.02991882422772332, 'subsample': 0.9467714632172435, 'colsample_bytree': 0.7718279227898751, 'reg_lambda': 0.0015119926407253916, 'reg_alpha': 0.0016707738659488675, 'min_child_weight': 2}. Best is trial 26 with value: 67188.21944781048.\n",
      "[I 2025-03-13 22:52:06,842] Trial 43 finished with value: 67610.46102907785 and parameters: {'n_estimators': 600, 'max_depth': 10, 'learning_rate': 0.04947921142293831, 'subsample': 0.9542209587631575, 'colsample_bytree': 0.7481867255210376, 'reg_lambda': 0.0020075692084411297, 'reg_alpha': 0.0019503366179438543, 'min_child_weight': 2}. Best is trial 26 with value: 67188.21944781048.\n",
      "[I 2025-03-13 22:52:19,423] Trial 44 finished with value: 67588.95733228106 and parameters: {'n_estimators': 700, 'max_depth': 12, 'learning_rate': 0.030245950674198947, 'subsample': 0.9399478893128794, 'colsample_bytree': 0.7957538133621196, 'reg_lambda': 0.0015474307410420689, 'reg_alpha': 0.001505627551079325, 'min_child_weight': 2}. Best is trial 26 with value: 67188.21944781048.\n",
      "[I 2025-03-13 22:52:24,057] Trial 45 finished with value: 67353.13727085265 and parameters: {'n_estimators': 650, 'max_depth': 9, 'learning_rate': 0.0376022849176221, 'subsample': 0.9770558770949772, 'colsample_bytree': 0.7691096705089063, 'reg_lambda': 0.0033250479614878453, 'reg_alpha': 0.0016110523716671423, 'min_child_weight': 3}. Best is trial 26 with value: 67188.21944781048.\n",
      "[I 2025-03-13 22:52:27,990] Trial 46 finished with value: 67819.86024513438 and parameters: {'n_estimators': 500, 'max_depth': 9, 'learning_rate': 0.035316653207445065, 'subsample': 0.9894770958458992, 'colsample_bytree': 0.7041247360036693, 'reg_lambda': 0.0034862916722669924, 'reg_alpha': 0.0015488299460791625, 'min_child_weight': 1}. Best is trial 26 with value: 67188.21944781048.\n",
      "[I 2025-03-13 22:52:32,251] Trial 47 finished with value: 67549.1337180549 and parameters: {'n_estimators': 550, 'max_depth': 9, 'learning_rate': 0.06351480477523408, 'subsample': 0.9750510383827784, 'colsample_bytree': 0.7331283164353509, 'reg_lambda': 0.007639166431812831, 'reg_alpha': 0.0010277972714536085, 'min_child_weight': 2}. Best is trial 26 with value: 67188.21944781048.\n",
      "[I 2025-03-13 22:52:39,333] Trial 48 finished with value: 67280.4730703487 and parameters: {'n_estimators': 650, 'max_depth': 10, 'learning_rate': 0.026710168606117815, 'subsample': 0.9087902465172089, 'colsample_bytree': 0.8270073363743512, 'reg_lambda': 0.005386350851851191, 'reg_alpha': 0.0596341826816065, 'min_child_weight': 1}. Best is trial 26 with value: 67188.21944781048.\n",
      "[I 2025-03-13 22:52:46,288] Trial 49 finished with value: 67128.19067272938 and parameters: {'n_estimators': 650, 'max_depth': 10, 'learning_rate': 0.02964957008879641, 'subsample': 0.9079779221465544, 'colsample_bytree': 0.8003565503333847, 'reg_lambda': 0.005640226464877974, 'reg_alpha': 0.04726426058652067, 'min_child_weight': 1}. Best is trial 49 with value: 67128.19067272938.\n",
      "[I 2025-03-13 22:53:02,029] Trial 50 finished with value: 67485.05553423309 and parameters: {'n_estimators': 650, 'max_depth': 12, 'learning_rate': 0.029151267240670495, 'subsample': 0.857293613248117, 'colsample_bytree': 0.8596951071189655, 'reg_lambda': 0.010924449228044841, 'reg_alpha': 0.07071694884060274, 'min_child_weight': 1}. Best is trial 49 with value: 67128.19067272938.\n",
      "[I 2025-03-13 22:53:09,194] Trial 51 finished with value: 67127.39956250001 and parameters: {'n_estimators': 600, 'max_depth': 10, 'learning_rate': 0.02718215961201516, 'subsample': 0.9089100546901093, 'colsample_bytree': 0.8097862069138151, 'reg_lambda': 0.005386727474165786, 'reg_alpha': 0.05515937916488548, 'min_child_weight': 1}. Best is trial 51 with value: 67127.39956250001.\n",
      "[I 2025-03-13 22:53:16,444] Trial 52 finished with value: 67034.33441809546 and parameters: {'n_estimators': 600, 'max_depth': 10, 'learning_rate': 0.027131540483396867, 'subsample': 0.9130009493870528, 'colsample_bytree': 0.8065125801639597, 'reg_lambda': 0.005179007020052318, 'reg_alpha': 0.04655443772501126, 'min_child_weight': 1}. Best is trial 52 with value: 67034.33441809546.\n",
      "[I 2025-03-13 22:53:23,849] Trial 53 finished with value: 67664.01943344531 and parameters: {'n_estimators': 600, 'max_depth': 10, 'learning_rate': 0.020978409991334147, 'subsample': 0.9098878841923075, 'colsample_bytree': 0.8187056853333379, 'reg_lambda': 0.005452829283731431, 'reg_alpha': 0.05712419643539646, 'min_child_weight': 1}. Best is trial 52 with value: 67034.33441809546.\n",
      "[I 2025-03-13 22:53:29,948] Trial 54 finished with value: 67603.96344931649 and parameters: {'n_estimators': 500, 'max_depth': 10, 'learning_rate': 0.026892293548097832, 'subsample': 0.8817777332981966, 'colsample_bytree': 0.8038056833298252, 'reg_lambda': 0.020378059465513416, 'reg_alpha': 0.14037149743911242, 'min_child_weight': 1}. Best is trial 52 with value: 67034.33441809546.\n",
      "[I 2025-03-13 22:53:32,660] Trial 55 finished with value: 79689.17524664041 and parameters: {'n_estimators': 750, 'max_depth': 3, 'learning_rate': 0.01574141780268275, 'subsample': 0.7640160212250986, 'colsample_bytree': 0.8364760482476464, 'reg_lambda': 2.91494930979413, 'reg_alpha': 0.05198203939072642, 'min_child_weight': 1}. Best is trial 52 with value: 67034.33441809546.\n",
      "[I 2025-03-13 22:53:41,197] Trial 56 finished with value: 67618.73642466984 and parameters: {'n_estimators': 650, 'max_depth': 10, 'learning_rate': 0.018214911182101723, 'subsample': 0.908028480188584, 'colsample_bytree': 0.8898405192837734, 'reg_lambda': 0.005244196114722171, 'reg_alpha': 0.03985249672087431, 'min_child_weight': 1}. Best is trial 52 with value: 67034.33441809546.\n",
      "[I 2025-03-13 22:53:45,380] Trial 57 finished with value: 68491.69938354379 and parameters: {'n_estimators': 500, 'max_depth': 8, 'learning_rate': 0.025737244741632814, 'subsample': 0.8380082755872302, 'colsample_bytree': 0.8241585505211566, 'reg_lambda': 0.021079431166664803, 'reg_alpha': 0.2723123502774362, 'min_child_weight': 2}. Best is trial 52 with value: 67034.33441809546.\n",
      "[I 2025-03-13 22:53:52,662] Trial 58 finished with value: 67487.45841267957 and parameters: {'n_estimators': 550, 'max_depth': 10, 'learning_rate': 0.022212136526739767, 'subsample': 0.8667100587635908, 'colsample_bytree': 0.7381782874736087, 'reg_lambda': 0.0012639841580045798, 'reg_alpha': 0.1242042361033647, 'min_child_weight': 1}. Best is trial 52 with value: 67034.33441809546.\n",
      "[I 2025-03-13 22:54:01,621] Trial 59 finished with value: 67064.95855966173 and parameters: {'n_estimators': 600, 'max_depth': 11, 'learning_rate': 0.03186327033571752, 'subsample': 0.9201535636737046, 'colsample_bytree': 0.8525577174108449, 'reg_lambda': 0.014653320638142883, 'reg_alpha': 0.27147046454329216, 'min_child_weight': 2}. Best is trial 52 with value: 67034.33441809546.\n",
      "[I 2025-03-13 22:54:10,215] Trial 60 finished with value: 67430.46792162882 and parameters: {'n_estimators': 600, 'max_depth': 11, 'learning_rate': 0.03237042803045802, 'subsample': 0.7891353611929385, 'colsample_bytree': 0.8571389991238273, 'reg_lambda': 0.014397995461638977, 'reg_alpha': 0.22433495551057048, 'min_child_weight': 2}. Best is trial 52 with value: 67034.33441809546.\n",
      "[I 2025-03-13 22:54:22,153] Trial 61 finished with value: 67652.84834346037 and parameters: {'n_estimators': 700, 'max_depth': 11, 'learning_rate': 0.02789316502268475, 'subsample': 0.926277359078454, 'colsample_bytree': 0.8973932147566434, 'reg_lambda': 0.009690137069893736, 'reg_alpha': 1.2027880468274454, 'min_child_weight': 1}. Best is trial 52 with value: 67034.33441809546.\n",
      "[I 2025-03-13 22:54:27,754] Trial 62 finished with value: 67383.60334577734 and parameters: {'n_estimators': 550, 'max_depth': 10, 'learning_rate': 0.047800838572709024, 'subsample': 0.8987209373971842, 'colsample_bytree': 0.8057680699321141, 'reg_lambda': 0.006730387512896941, 'reg_alpha': 8.646625506198495, 'min_child_weight': 2}. Best is trial 52 with value: 67034.33441809546.\n",
      "[I 2025-03-13 22:54:38,755] Trial 63 finished with value: 66931.63264205863 and parameters: {'n_estimators': 600, 'max_depth': 11, 'learning_rate': 0.03253573886681746, 'subsample': 0.9159706162703845, 'colsample_bytree': 0.8629834019917649, 'reg_lambda': 0.003038522321115552, 'reg_alpha': 0.5600114325184049, 'min_child_weight': 1}. Best is trial 63 with value: 66931.63264205863.\n",
      "[I 2025-03-13 22:54:55,055] Trial 64 finished with value: 67667.03762111909 and parameters: {'n_estimators': 600, 'max_depth': 12, 'learning_rate': 0.023188258615725828, 'subsample': 0.928406314367516, 'colsample_bytree': 0.8606797140578677, 'reg_lambda': 0.0030320331901401267, 'reg_alpha': 0.30153993695912795, 'min_child_weight': 1}. Best is trial 63 with value: 66931.63264205863.\n",
      "[I 2025-03-13 22:54:59,383] Trial 65 finished with value: 67950.34095910566 and parameters: {'n_estimators': 450, 'max_depth': 11, 'learning_rate': 0.03370000245849763, 'subsample': 0.8876199072395377, 'colsample_bytree': 0.779680769232006, 'reg_lambda': 0.004147810661903009, 'reg_alpha': 0.4616145581865683, 'min_child_weight': 8}. Best is trial 63 with value: 66931.63264205863.\n",
      "[I 2025-03-13 22:55:08,275] Trial 66 finished with value: 67133.59034322869 and parameters: {'n_estimators': 650, 'max_depth': 11, 'learning_rate': 0.030631550883131655, 'subsample': 0.8653798038941329, 'colsample_bytree': 0.8717466774915293, 'reg_lambda': 0.0014184694002632573, 'reg_alpha': 0.49156943908020534, 'min_child_weight': 2}. Best is trial 63 with value: 66931.63264205863.\n",
      "[I 2025-03-13 22:55:21,277] Trial 67 finished with value: 67983.41017484361 and parameters: {'n_estimators': 500, 'max_depth': 12, 'learning_rate': 0.04514555616201981, 'subsample': 0.8598162644962609, 'colsample_bytree': 0.9375920307581922, 'reg_lambda': 0.027635198716919912, 'reg_alpha': 0.41075005404743864, 'min_child_weight': 1}. Best is trial 63 with value: 66931.63264205863.\n",
      "[I 2025-03-13 22:55:29,075] Trial 68 finished with value: 67436.1083732623 and parameters: {'n_estimators': 550, 'max_depth': 11, 'learning_rate': 0.03210116930826597, 'subsample': 0.8128214230402829, 'colsample_bytree': 0.8731168696004935, 'reg_lambda': 0.0029011796416050805, 'reg_alpha': 0.7268588685033746, 'min_child_weight': 2}. Best is trial 63 with value: 66931.63264205863.\n",
      "[I 2025-03-13 22:55:29,539] Trial 69 finished with value: 80313.66918692076 and parameters: {'n_estimators': 100, 'max_depth': 5, 'learning_rate': 0.036349372515957344, 'subsample': 0.5047792647077465, 'colsample_bytree': 0.895682423052632, 'reg_lambda': 0.007473180481876431, 'reg_alpha': 0.6881028889911022, 'min_child_weight': 6}. Best is trial 63 with value: 66931.63264205863.\n",
      "[I 2025-03-13 22:55:41,438] Trial 70 finished with value: 67750.27289434662 and parameters: {'n_estimators': 650, 'max_depth': 11, 'learning_rate': 0.025420610489897865, 'subsample': 0.9154582297934903, 'colsample_bytree': 0.9697953387688136, 'reg_lambda': 0.0014811710735177803, 'reg_alpha': 0.17873502099251357, 'min_child_weight': 1}. Best is trial 63 with value: 66931.63264205863.\n",
      "[I 2025-03-13 22:55:50,590] Trial 71 finished with value: 67383.41444529078 and parameters: {'n_estimators': 700, 'max_depth': 11, 'learning_rate': 0.02890536919774737, 'subsample': 0.934587056754961, 'colsample_bytree': 0.8363083009357435, 'reg_lambda': 0.0011613816470670963, 'reg_alpha': 2.90068201050072, 'min_child_weight': 2}. Best is trial 63 with value: 66931.63264205863.\n",
      "[I 2025-03-13 22:55:59,784] Trial 72 finished with value: 67321.47518330051 and parameters: {'n_estimators': 750, 'max_depth': 11, 'learning_rate': 0.04395757997957374, 'subsample': 0.8935600875169829, 'colsample_bytree': 0.8485143466406085, 'reg_lambda': 0.0015257978041915378, 'reg_alpha': 1.354772671096294, 'min_child_weight': 2}. Best is trial 63 with value: 66931.63264205863.\n",
      "[I 2025-03-13 22:56:10,255] Trial 73 finished with value: 67813.46529002549 and parameters: {'n_estimators': 600, 'max_depth': 12, 'learning_rate': 0.03041467568041315, 'subsample': 0.9545490219919452, 'colsample_bytree': 0.8814074760107842, 'reg_lambda': 0.004796541516735458, 'reg_alpha': 0.10004201969975193, 'min_child_weight': 2}. Best is trial 63 with value: 66931.63264205863.\n",
      "[I 2025-03-13 22:56:18,403] Trial 74 finished with value: 67316.80468865848 and parameters: {'n_estimators': 750, 'max_depth': 10, 'learning_rate': 0.02098287210853213, 'subsample': 0.8709899754771012, 'colsample_bytree': 0.7949695119716685, 'reg_lambda': 0.002866668727803265, 'reg_alpha': 0.016813735267491543, 'min_child_weight': 1}. Best is trial 63 with value: 66931.63264205863.\n",
      "[I 2025-03-13 22:56:27,960] Trial 75 finished with value: 67727.68594789736 and parameters: {'n_estimators': 600, 'max_depth': 11, 'learning_rate': 0.0549967203724665, 'subsample': 0.9191658440859447, 'colsample_bytree': 0.8166497638227704, 'reg_lambda': 0.0043121048037889275, 'reg_alpha': 0.02800060010454674, 'min_child_weight': 1}. Best is trial 63 with value: 66931.63264205863.\n",
      "[I 2025-03-13 22:56:41,097] Trial 76 finished with value: 67837.27433430839 and parameters: {'n_estimators': 700, 'max_depth': 12, 'learning_rate': 0.018388745613938735, 'subsample': 0.945087880565479, 'colsample_bytree': 0.8692229976061289, 'reg_lambda': 0.008912347387054752, 'reg_alpha': 0.3477065919071376, 'min_child_weight': 2}. Best is trial 63 with value: 66931.63264205863.\n",
      "[I 2025-03-13 22:56:46,654] Trial 77 finished with value: 68329.98161373379 and parameters: {'n_estimators': 650, 'max_depth': 10, 'learning_rate': 0.037969441693602814, 'subsample': 0.720837738927514, 'colsample_bytree': 0.9191934631401061, 'reg_lambda': 0.001740580193676292, 'reg_alpha': 0.19357423389635195, 'min_child_weight': 3}. Best is trial 63 with value: 66931.63264205863.\n",
      "[I 2025-03-13 22:56:53,859] Trial 78 finished with value: 68243.13051329357 and parameters: {'n_estimators': 400, 'max_depth': 11, 'learning_rate': 0.024374134468399294, 'subsample': 0.8267406902557809, 'colsample_bytree': 0.5325918608882092, 'reg_lambda': 0.012949800499456826, 'reg_alpha': 0.12910826131846287, 'min_child_weight': 1}. Best is trial 63 with value: 66931.63264205863.\n",
      "[I 2025-03-13 22:57:00,518] Trial 79 finished with value: 67266.83931919023 and parameters: {'n_estimators': 650, 'max_depth': 10, 'learning_rate': 0.0341072835885788, 'subsample': 0.8961525826896697, 'colsample_bytree': 0.805126873727574, 'reg_lambda': 0.002554250849679599, 'reg_alpha': 0.5765896574058407, 'min_child_weight': 2}. Best is trial 63 with value: 66931.63264205863.\n",
      "[I 2025-03-13 22:57:07,288] Trial 80 finished with value: 67345.37226885426 and parameters: {'n_estimators': 800, 'max_depth': 9, 'learning_rate': 0.02251800777347257, 'subsample': 0.8474558229756894, 'colsample_bytree': 0.7698071554737523, 'reg_lambda': 0.0010213323402537818, 'reg_alpha': 0.0038225010319271166, 'min_child_weight': 1}. Best is trial 63 with value: 66931.63264205863.\n",
      "[I 2025-03-13 22:57:14,007] Trial 81 finished with value: 67273.91569181533 and parameters: {'n_estimators': 650, 'max_depth': 10, 'learning_rate': 0.034570422297394855, 'subsample': 0.8811895236444232, 'colsample_bytree': 0.7974866520058623, 'reg_lambda': 0.0025432440029833116, 'reg_alpha': 0.5941577378665068, 'min_child_weight': 2}. Best is trial 63 with value: 66931.63264205863.\n",
      "[I 2025-03-13 22:57:20,472] Trial 82 finished with value: 67397.10326656626 and parameters: {'n_estimators': 600, 'max_depth': 10, 'learning_rate': 0.032146256898588, 'subsample': 0.9004359368614299, 'colsample_bytree': 0.7852858995195523, 'reg_lambda': 0.0061426077585186424, 'reg_alpha': 0.9333495445265332, 'min_child_weight': 2}. Best is trial 63 with value: 66931.63264205863.\n",
      "[I 2025-03-13 22:57:30,500] Trial 83 finished with value: 67465.20261521084 and parameters: {'n_estimators': 700, 'max_depth': 11, 'learning_rate': 0.028388281426942302, 'subsample': 0.9594490793333316, 'colsample_bytree': 0.8449745942893094, 'reg_lambda': 0.0014232027552666749, 'reg_alpha': 2.435614319535722, 'min_child_weight': 2}. Best is trial 63 with value: 66931.63264205863.\n",
      "[I 2025-03-13 22:57:36,639] Trial 84 finished with value: 67181.90269734709 and parameters: {'n_estimators': 650, 'max_depth': 10, 'learning_rate': 0.04298069430433497, 'subsample': 0.9229463198058258, 'colsample_bytree': 0.8095981766151767, 'reg_lambda': 0.0022020918983961884, 'reg_alpha': 0.08298550987636165, 'min_child_weight': 3}. Best is trial 63 with value: 66931.63264205863.\n",
      "[I 2025-03-13 22:57:42,117] Trial 85 finished with value: 71054.92005711306 and parameters: {'n_estimators': 550, 'max_depth': 11, 'learning_rate': 0.18400282721822725, 'subsample': 0.9412432434243285, 'colsample_bytree': 0.8578719136128382, 'reg_lambda': 0.0019896815089624014, 'reg_alpha': 0.0797071356661539, 'min_child_weight': 3}. Best is trial 63 with value: 66931.63264205863.\n",
      "[I 2025-03-13 22:57:47,056] Trial 86 finished with value: 66997.7073168443 and parameters: {'n_estimators': 600, 'max_depth': 9, 'learning_rate': 0.04408442710356491, 'subsample': 0.9222150260447263, 'colsample_bytree': 0.8213165370204464, 'reg_lambda': 0.003774470739812244, 'reg_alpha': 0.049852862469277115, 'min_child_weight': 1}. Best is trial 63 with value: 66931.63264205863.\n",
      "[I 2025-03-13 22:57:52,231] Trial 87 finished with value: 67089.44060710148 and parameters: {'n_estimators': 600, 'max_depth': 9, 'learning_rate': 0.04326385539201406, 'subsample': 0.9237192128879155, 'colsample_bytree': 0.824948733876297, 'reg_lambda': 0.00374536523160778, 'reg_alpha': 0.04502755787663328, 'min_child_weight': 1}. Best is trial 63 with value: 66931.63264205863.\n",
      "[I 2025-03-13 22:57:57,279] Trial 88 finished with value: 67606.41066435937 and parameters: {'n_estimators': 600, 'max_depth': 9, 'learning_rate': 0.05978263277818637, 'subsample': 0.9237681293828381, 'colsample_bytree': 0.8316356902457809, 'reg_lambda': 0.0038208718367148792, 'reg_alpha': 0.041574347094237886, 'min_child_weight': 1}. Best is trial 63 with value: 66931.63264205863.\n",
      "[I 2025-03-13 22:58:01,018] Trial 89 finished with value: 68215.94809010079 and parameters: {'n_estimators': 500, 'max_depth': 8, 'learning_rate': 0.05101579379677478, 'subsample': 0.6742975841546228, 'colsample_bytree': 0.8236620052945551, 'reg_lambda': 0.008347270339509851, 'reg_alpha': 0.04840682469677158, 'min_child_weight': 1}. Best is trial 63 with value: 66931.63264205863.\n",
      "[I 2025-03-13 22:58:05,990] Trial 90 finished with value: 67008.33059267841 and parameters: {'n_estimators': 650, 'max_depth': 9, 'learning_rate': 0.04738882619787566, 'subsample': 0.9171044177716912, 'colsample_bytree': 0.8119177212527078, 'reg_lambda': 0.011113089277124951, 'reg_alpha': 0.03161171334816569, 'min_child_weight': 1}. Best is trial 63 with value: 66931.63264205863.\n",
      "[I 2025-03-13 22:58:10,480] Trial 91 finished with value: 67484.57277928058 and parameters: {'n_estimators': 550, 'max_depth': 9, 'learning_rate': 0.04611234941198652, 'subsample': 0.9072051016260637, 'colsample_bytree': 0.8144576754082569, 'reg_lambda': 0.010833538832420341, 'reg_alpha': 0.033978152542257285, 'min_child_weight': 1}. Best is trial 63 with value: 66931.63264205863.\n",
      "[I 2025-03-13 22:58:15,667] Trial 92 finished with value: 67620.20545192309 and parameters: {'n_estimators': 650, 'max_depth': 9, 'learning_rate': 0.03873679051918768, 'subsample': 0.6068086455038653, 'colsample_bytree': 0.8485979901535008, 'reg_lambda': 0.0047248448063117385, 'reg_alpha': 0.020138017425234068, 'min_child_weight': 1}. Best is trial 63 with value: 66931.63264205863.\n",
      "[I 2025-03-13 22:58:20,435] Trial 93 finished with value: 67518.33576120829 and parameters: {'n_estimators': 600, 'max_depth': 8, 'learning_rate': 0.043269289169500055, 'subsample': 0.917746732234735, 'colsample_bytree': 0.7927787610225067, 'reg_lambda': 0.016994353729004808, 'reg_alpha': 0.014094683706848753, 'min_child_weight': 1}. Best is trial 63 with value: 66931.63264205863.\n",
      "[I 2025-03-13 22:58:25,467] Trial 94 finished with value: 68197.49398186979 and parameters: {'n_estimators': 550, 'max_depth': 9, 'learning_rate': 0.07560334666827798, 'subsample': 0.9351542177253671, 'colsample_bytree': 0.8286545943568779, 'reg_lambda': 0.006332476489119585, 'reg_alpha': 0.06697350463074614, 'min_child_weight': 1}. Best is trial 63 with value: 66931.63264205863.\n",
      "[I 2025-03-13 22:58:29,696] Trial 95 finished with value: 68328.58333969532 and parameters: {'n_estimators': 650, 'max_depth': 7, 'learning_rate': 0.05053690094060819, 'subsample': 0.8642002916459077, 'colsample_bytree': 0.8688330889015796, 'reg_lambda': 0.003500789294107086, 'reg_alpha': 0.029635758591410582, 'min_child_weight': 1}. Best is trial 63 with value: 66931.63264205863.\n",
      "[I 2025-03-13 22:58:36,642] Trial 96 finished with value: 67335.20061170644 and parameters: {'n_estimators': 550, 'max_depth': 10, 'learning_rate': 0.04034590106005216, 'subsample': 0.8842603313631523, 'colsample_bytree': 0.8846017240503835, 'reg_lambda': 0.03713745916265847, 'reg_alpha': 0.0895625984937201, 'min_child_weight': 1}. Best is trial 63 with value: 66931.63264205863.\n",
      "[I 2025-03-13 22:58:42,033] Trial 97 finished with value: 68334.45023123264 and parameters: {'n_estimators': 600, 'max_depth': 9, 'learning_rate': 0.059626282562600066, 'subsample': 0.9304227219550191, 'colsample_bytree': 0.8089617976635186, 'reg_lambda': 0.002298053103539044, 'reg_alpha': 0.04380184800036593, 'min_child_weight': 2}. Best is trial 63 with value: 66931.63264205863.\n",
      "[I 2025-03-13 22:58:47,208] Trial 98 finished with value: 67805.21420383456 and parameters: {'n_estimators': 650, 'max_depth': 8, 'learning_rate': 0.037498559378939283, 'subsample': 0.9810631476560341, 'colsample_bytree': 0.7593490689052171, 'reg_lambda': 0.15533894923609454, 'reg_alpha': 0.11538041146415745, 'min_child_weight': 1}. Best is trial 63 with value: 66931.63264205863.\n",
      "[I 2025-03-13 22:58:51,856] Trial 99 finished with value: 67506.7497678406 and parameters: {'n_estimators': 550, 'max_depth': 9, 'learning_rate': 0.04750415810350655, 'subsample': 0.9149677793108278, 'colsample_bytree': 0.834348205180067, 'reg_lambda': 0.05890473991485554, 'reg_alpha': 0.14657209886881706, 'min_child_weight': 2}. Best is trial 63 with value: 66931.63264205863.\n"
     ]
    },
    {
     "name": "stdout",
     "output_type": "stream",
     "text": [
      "Best parameters: {'n_estimators': 600, 'max_depth': 11, 'learning_rate': 0.03253573886681746, 'subsample': 0.9159706162703845, 'colsample_bytree': 0.8629834019917649, 'reg_lambda': 0.003038522321115552, 'reg_alpha': 0.5600114325184049, 'min_child_weight': 1}\n"
     ]
    }
   ],
   "source": [
    "# Run Optuna Optimization\n",
    "study = optuna.create_study(direction=\"minimize\")\n",
    "study.optimize(objective, n_trials=100, timeout=1200)\n",
    "\n",
    "# Get best hyperparameters\n",
    "best_params = study.best_params\n",
    "print(\"Best parameters:\", best_params)"
   ]
  },
  {
   "cell_type": "code",
   "execution_count": 185,
   "metadata": {},
   "outputs": [
    {
     "name": "stdout",
     "output_type": "stream",
     "text": [
      "Validation MAE: 15228.954789909638\n",
      "[648911.94 625524.8  771511.1  671364.9  677963.6  796948.44 637025.8\n",
      " 817065.2  761074.56 762620.9 ]\n"
     ]
    }
   ],
   "source": [
    "# Train model on full train set\n",
    "best_model = xgb.XGBRegressor(**best_params, random_state=42)\n",
    "best_model.fit(X, y)\n",
    "\n",
    "# MAE on validation set\n",
    "y_valid_pred = best_model.predict(X_valid)\n",
    "mae_valid = mean_absolute_error(y_valid, y_valid_pred)\n",
    "print(\"Validation MAE:\", mae_valid)\n",
    "\n",
    "# Predict on test set\n",
    "test_pred = best_model.predict(test)\n",
    "print(test_pred[:10])"
   ]
  },
  {
   "cell_type": "code",
   "execution_count": 198,
   "metadata": {},
   "outputs": [
    {
     "name": "stdout",
     "output_type": "stream",
     "text": [
      "Submission saved to submission.csv\n",
      "    ID     LOWER     UPPER      PRED\n",
      "0  te0  584021.0  713803.0  648912.0\n",
      "1  te1  562972.0  688078.0  625525.0\n",
      "2  te2  694360.0  848662.0  771511.0\n",
      "3  te3  604228.0  738502.0  671365.0\n",
      "4  te4  610168.0  745760.0  677964.0\n"
     ]
    }
   ],
   "source": [
    "# Uncertainty bounds\n",
    "lower_bound = test_pred * 0.90 # 90% of predicted price\n",
    "upper_bound = test_pred * 1.10 # 110% of predicted price\n",
    "lower_bound = lower_bound.round(0) # Round to nearest integer\n",
    "upper_bound = upper_bound.round(0) # Round to nearest integer\n",
    "test_pred = test_pred.round(0) # Round to nearest integer\n",
    "\n",
    "# Create submission\n",
    "submission = pd.DataFrame({\n",
    "    \"ID\": test_original[\"id\"].astype(str),\n",
    "    \"LOWER\": lower_bound,\n",
    "    \"UPPER\": upper_bound,\n",
    "    \"PRED\": test_pred\n",
    "})\n",
    "submission.to_csv(\"C:/Users/fabri/Desktop/uni/MSDS/2024-2025/Semester 2/Advanced Analytics in a Big Data World/Project/Assignment 1/Data/submission.csv\", index=False)\n",
    "print(\"Submission saved to submission.csv\")\n",
    "print(submission.head())"
   ]
  }
 ],
 "metadata": {
  "kernelspec": {
   "display_name": "Python 3",
   "language": "python",
   "name": "python3"
  },
  "language_info": {
   "codemirror_mode": {
    "name": "ipython",
    "version": 3
   },
   "file_extension": ".py",
   "mimetype": "text/x-python",
   "name": "python",
   "nbconvert_exporter": "python",
   "pygments_lexer": "ipython3",
   "version": "3.9.13"
  }
 },
 "nbformat": 4,
 "nbformat_minor": 2
}
